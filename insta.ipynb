{
 "cells": [
  {
   "cell_type": "code",
   "execution_count": 1,
   "metadata": {
    "collapsed": true
   },
   "outputs": [],
   "source": [
    "import os\n",
    "import ssl as ssl\n",
    "import wget\n",
    "#imports here\n",
    "from selenium import webdriver\n",
    "from selenium.webdriver.common.keys import Keys\n",
    "from selenium.webdriver.support import expected_conditions as EC\n",
    "from selenium.webdriver.common.by import By\n",
    "from selenium.webdriver.support.wait import WebDriverWait\n",
    "import time"
   ]
  },
  {
   "cell_type": "code",
   "execution_count": 2,
   "outputs": [],
   "source": [
    "#specify the path to chromedriver.exe (download and save on your computer)\n",
    "driver = webdriver.Chrome()\n",
    "\n",
    "ctx = ssl.create_default_context()\n",
    "ctx.check_hostname = False\n",
    "ctx.verify_mode = ssl.CERT_NONE"
   ],
   "metadata": {
    "collapsed": false
   }
  },
  {
   "cell_type": "code",
   "execution_count": 3,
   "outputs": [],
   "source": [
    "#open the webpage\n",
    "driver.get(\"http://www.instagram.com\")"
   ],
   "metadata": {
    "collapsed": false
   }
  },
  {
   "cell_type": "code",
   "execution_count": 4,
   "outputs": [],
   "source": [
    "#target username\n",
    "username = WebDriverWait(driver, 10).until(EC.element_to_be_clickable((By.CSS_SELECTOR, \"input[name='username']\")))\n",
    "password = WebDriverWait(driver, 10).until(EC.element_to_be_clickable((By.CSS_SELECTOR, \"input[name='password']\")))"
   ],
   "metadata": {
    "collapsed": false
   }
  },
  {
   "cell_type": "code",
   "execution_count": 5,
   "outputs": [],
   "source": [
    "\n",
    "\n",
    "#enter username and password\n",
    "username.clear()\n",
    "username.send_keys(\"picture_greed\")\n",
    "password.clear()\n",
    "password.send_keys(\"f2!yAF@4l%vv6d\")\n"
   ],
   "metadata": {
    "collapsed": false
   }
  },
  {
   "cell_type": "code",
   "execution_count": 6,
   "outputs": [],
   "source": [
    "login = WebDriverWait(driver, 10).until(EC.element_to_be_clickable((By.CSS_SELECTOR, \"button[type='submit']\"))).click()\n",
    "time.sleep(5)"
   ],
   "metadata": {
    "collapsed": false
   }
  },
  {
   "cell_type": "code",
   "execution_count": 7,
   "outputs": [],
   "source": [
    "not_now = WebDriverWait(driver, 10).until(EC.element_to_be_clickable((By.XPATH, \"/html/body/div[2]/div/div/div/div[1]/div/div/div/div[1]/div[1]/div[2]/section/main/div/div/div/div/button\"))).click()\n",
    "time.sleep(7)"
   ],
   "metadata": {
    "collapsed": false
   }
  },
  {
   "cell_type": "code",
   "execution_count": 9,
   "outputs": [],
   "source": [
    "not_now1 = WebDriverWait(driver, 10).until(EC.element_to_be_clickable((By.XPATH, \"/html/body/div[2]/div/div/div/div[2]/div/div/div[1]/div/div[2]/div/div/div/div/div[2]/div/div/div[3]/button[2]\"))).click()\n",
    "time.sleep(5)"
   ],
   "metadata": {
    "collapsed": false
   }
  },
  {
   "cell_type": "code",
   "execution_count": null,
   "outputs": [],
   "source": [],
   "metadata": {
    "collapsed": false
   }
  },
  {
   "cell_type": "code",
   "execution_count": 16,
   "outputs": [],
   "source": [
    "\n",
    "time.sleep(2)\n",
    "searchbox = WebDriverWait(driver, 10).until(EC.element_to_be_clickable((By.XPATH, \"/html/body/div[2]/div/div/div/div[1]/div/div/div/div[1]/div[1]/div[2]/section/div[2]/nav/div/header/div/div/div[1]/div/input\")))\n",
    "searchbox.clear()"
   ],
   "metadata": {
    "collapsed": false
   }
  },
  {
   "cell_type": "code",
   "execution_count": 17,
   "outputs": [],
   "source": [
    "keyword = \"shannu_7\"\n",
    "searchbox.send_keys(keyword)\n",
    "time.sleep(1)"
   ],
   "metadata": {
    "collapsed": false
   }
  },
  {
   "cell_type": "code",
   "execution_count": 18,
   "outputs": [],
   "source": [
    "searchbox.send_keys(Keys.ENTER)\n",
    "searchbox.send_keys(Keys.ENTER)"
   ],
   "metadata": {
    "collapsed": false
   }
  },
  {
   "cell_type": "code",
   "execution_count": 19,
   "outputs": [],
   "source": [
    "driver.execute_script(\"window.scrollTo(0,500);\")\n",
    "images = driver.find_elements(By.TAG_NAME,'img')"
   ],
   "metadata": {
    "collapsed": false
   }
  },
  {
   "cell_type": "code",
   "execution_count": 20,
   "outputs": [
    {
     "data": {
      "text/plain": "[<selenium.webdriver.remote.webelement.WebElement (session=\"2b0457264cfc18777551f64cc66c087d\", element=\"221d577d-e0c1-45a3-8fdb-f88e15ce75ca\")>,\n <selenium.webdriver.remote.webelement.WebElement (session=\"2b0457264cfc18777551f64cc66c087d\", element=\"bbefa489-4670-4776-8f98-5c78104fbc45\")>,\n <selenium.webdriver.remote.webelement.WebElement (session=\"2b0457264cfc18777551f64cc66c087d\", element=\"b9b388f3-08dc-4108-9710-eaa6b1558cc2\")>,\n <selenium.webdriver.remote.webelement.WebElement (session=\"2b0457264cfc18777551f64cc66c087d\", element=\"3e3c16a0-9bf8-402f-9a6a-4d227ebb83cd\")>,\n <selenium.webdriver.remote.webelement.WebElement (session=\"2b0457264cfc18777551f64cc66c087d\", element=\"ef43f7b5-81f7-4bdd-a3c9-619b78f5f459\")>,\n <selenium.webdriver.remote.webelement.WebElement (session=\"2b0457264cfc18777551f64cc66c087d\", element=\"7040c7e5-7577-48af-94e1-ab359e1ce443\")>,\n <selenium.webdriver.remote.webelement.WebElement (session=\"2b0457264cfc18777551f64cc66c087d\", element=\"09b3908d-449f-4744-9c5f-3e83a40a1775\")>,\n <selenium.webdriver.remote.webelement.WebElement (session=\"2b0457264cfc18777551f64cc66c087d\", element=\"a62be1dc-057b-427c-b9c1-505210467dd0\")>,\n <selenium.webdriver.remote.webelement.WebElement (session=\"2b0457264cfc18777551f64cc66c087d\", element=\"53e95fee-67d1-4334-9751-e863d6e5c068\")>,\n <selenium.webdriver.remote.webelement.WebElement (session=\"2b0457264cfc18777551f64cc66c087d\", element=\"d7fb59a8-cbb8-4a5a-a103-41046d097eb6\")>,\n <selenium.webdriver.remote.webelement.WebElement (session=\"2b0457264cfc18777551f64cc66c087d\", element=\"3779cefd-131e-49dd-8a07-7fced504a7b5\")>,\n <selenium.webdriver.remote.webelement.WebElement (session=\"2b0457264cfc18777551f64cc66c087d\", element=\"1f58d0a9-2d56-4252-9e78-33a7f73cc6e6\")>,\n <selenium.webdriver.remote.webelement.WebElement (session=\"2b0457264cfc18777551f64cc66c087d\", element=\"e3507dd3-1574-4ff9-9a94-5bf45dbc2930\")>,\n <selenium.webdriver.remote.webelement.WebElement (session=\"2b0457264cfc18777551f64cc66c087d\", element=\"e0475a4a-588f-44a8-9f4d-ba853c22755b\")>,\n <selenium.webdriver.remote.webelement.WebElement (session=\"2b0457264cfc18777551f64cc66c087d\", element=\"4b68bc31-8533-4dc4-807c-d8bb6e505a8e\")>,\n <selenium.webdriver.remote.webelement.WebElement (session=\"2b0457264cfc18777551f64cc66c087d\", element=\"a2351242-6f77-4679-a517-310f1b9680b6\")>,\n <selenium.webdriver.remote.webelement.WebElement (session=\"2b0457264cfc18777551f64cc66c087d\", element=\"2f8e6557-0f69-4276-b573-7ec649013a32\")>,\n <selenium.webdriver.remote.webelement.WebElement (session=\"2b0457264cfc18777551f64cc66c087d\", element=\"c1a88092-862d-4ab9-912e-dcffd80c1e39\")>,\n <selenium.webdriver.remote.webelement.WebElement (session=\"2b0457264cfc18777551f64cc66c087d\", element=\"01cf46c1-9836-494f-8e20-3e6c25c4df6b\")>,\n <selenium.webdriver.remote.webelement.WebElement (session=\"2b0457264cfc18777551f64cc66c087d\", element=\"4fa3e0cf-d08b-415d-b053-8b7b6b9d53b5\")>,\n <selenium.webdriver.remote.webelement.WebElement (session=\"2b0457264cfc18777551f64cc66c087d\", element=\"28ffd409-a715-45df-bdd7-9131f307b6f7\")>,\n <selenium.webdriver.remote.webelement.WebElement (session=\"2b0457264cfc18777551f64cc66c087d\", element=\"3ab1adb5-8afb-4db0-bc12-34eb78b9e501\")>,\n <selenium.webdriver.remote.webelement.WebElement (session=\"2b0457264cfc18777551f64cc66c087d\", element=\"5e2351f3-9f6d-4158-a4e5-a8f3dd46d9a0\")>,\n <selenium.webdriver.remote.webelement.WebElement (session=\"2b0457264cfc18777551f64cc66c087d\", element=\"bc78277d-9cb5-4fa5-901e-78d82075d0e9\")>,\n <selenium.webdriver.remote.webelement.WebElement (session=\"2b0457264cfc18777551f64cc66c087d\", element=\"f2cd36b8-6c1d-43c9-93b1-6527aa32a72b\")>,\n <selenium.webdriver.remote.webelement.WebElement (session=\"2b0457264cfc18777551f64cc66c087d\", element=\"efe0cacc-0a70-4ed3-8d9c-3098513a286b\")>,\n <selenium.webdriver.remote.webelement.WebElement (session=\"2b0457264cfc18777551f64cc66c087d\", element=\"b908dc41-8f56-4c36-8c97-a00f1c854508\")>,\n <selenium.webdriver.remote.webelement.WebElement (session=\"2b0457264cfc18777551f64cc66c087d\", element=\"8dab3943-328a-4b2c-b1c4-314ccc1f97b0\")>,\n <selenium.webdriver.remote.webelement.WebElement (session=\"2b0457264cfc18777551f64cc66c087d\", element=\"62cd1863-4f52-4f63-8118-4d31cbe0a8b2\")>,\n <selenium.webdriver.remote.webelement.WebElement (session=\"2b0457264cfc18777551f64cc66c087d\", element=\"1fbbe8d9-557b-43e5-9777-b8ab50bea00d\")>,\n <selenium.webdriver.remote.webelement.WebElement (session=\"2b0457264cfc18777551f64cc66c087d\", element=\"f7354138-b223-47bb-93ab-9b32d1bfb006\")>,\n <selenium.webdriver.remote.webelement.WebElement (session=\"2b0457264cfc18777551f64cc66c087d\", element=\"c7e835b8-6a2c-4a5f-92b7-b3428ace9c11\")>]"
     },
     "execution_count": 20,
     "metadata": {},
     "output_type": "execute_result"
    }
   ],
   "source": [
    "images"
   ],
   "metadata": {
    "collapsed": false
   }
  },
  {
   "cell_type": "code",
   "execution_count": 21,
   "outputs": [
    {
     "data": {
      "text/plain": "32"
     },
     "execution_count": 21,
     "metadata": {},
     "output_type": "execute_result"
    }
   ],
   "source": [
    "len(images)"
   ],
   "metadata": {
    "collapsed": false
   }
  },
  {
   "cell_type": "code",
   "execution_count": 22,
   "outputs": [],
   "source": [
    "images = [image.get_attribute('src') for image in images]"
   ],
   "metadata": {
    "collapsed": false
   }
  },
  {
   "cell_type": "code",
   "execution_count": 23,
   "outputs": [
    {
     "data": {
      "text/plain": "['data:image/png;base64,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',\n 'data:image/png;base64,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',\n 'https://scontent.cdninstagram.com/v/t51.2885-19/152455501_118827793492139_4981036572940766504_n.jpg?stp=dst-jpg_s150x150&_nc_ht=scontent.cdninstagram.com&_nc_cat=111&_nc_ohc=5zBvViP6HOwAX_DApPc&edm=APs17CUBAAAA&ccb=7-5&oh=00_AfAFVV0oC5nTw2__hBhOy2h79kC6T2Q2AT7KIhyEF-7lwQ&oe=63B6F1E1&_nc_sid=978cb9',\n 'https://instagram.fhyd2-2.fna.fbcdn.net/v/t51.2885-19/320177261_1787837671600441_5137752268892292531_n.jpg?stp=dst-jpg_s150x150&_nc_ht=instagram.fhyd2-2.fna.fbcdn.net&_nc_cat=1&_nc_ohc=gMvNX1lysPoAX_WyT5l&tn=YP210eL3F2W_Oi4S&edm=ABmJApABAAAA&ccb=7-5&oh=00_AfCk6vXRtu53773Gn_8YPk1as8z3mYcs65zp_-AgFdKTNw&oe=63B87CB8&_nc_sid=6136e7',\n 'https://instagram.fhyd2-2.fna.fbcdn.net/v/t51.2885-15/319882869_650951566761476_6121096505978202255_n.jpg?stp=c0.499.1284.1284a_dst-jpg_e35_s150x150&_nc_ht=instagram.fhyd2-2.fna.fbcdn.net&_nc_cat=108&_nc_ohc=NhZqVH7gTNwAX_fWKiP&edm=AGW0Xe4BAAAA&ccb=7-5&oh=00_AfAdPwQcseadajkcyP4v0Kwrq3G5NDj7Hu4zi49HeZ8Q3Q&oe=63B43E8B&_nc_sid=acd11b',\n 'https://instagram.fhyd2-2.fna.fbcdn.net/v/t51.12442-15/25013827_279858702538270_1804861634213052416_n.jpg?stp=c0.237.720.720a_dst-jpg_e35_s150x150&_nc_ht=instagram.fhyd2-2.fna.fbcdn.net&_nc_cat=110&_nc_ohc=vSMhb5jxXxEAX8REpSM&edm=AGW0Xe4BAAAA&ccb=7-5&oh=00_AfDeg3-emIH9GslOO6aYRJjSbDHel5gJdC3CvCe_4RXEqA&oe=63B48AA4&_nc_sid=acd11b',\n 'https://instagram.fhyd2-1.fna.fbcdn.net/v/t51.2885-15/306291482_189361526841941_4348759151212039810_n.jpg?stp=c21.530.590.590a_dst-jpg_e15_s150x150&_nc_ht=instagram.fhyd2-1.fna.fbcdn.net&_nc_cat=105&_nc_ohc=PiCyYr3EiaMAX_Wnbmm&edm=AGW0Xe4BAAAA&ccb=7-5&oh=00_AfB_VzMpgdZ85MOr7HjXNn6UIfVNA_2A7nu4xrkhnKXVjg&oe=63B4814C&_nc_sid=acd11b',\n 'https://instagram.fhyd2-2.fna.fbcdn.net/v/t51.2885-15/277601188_174213228272931_3363189348435802702_n.jpg?stp=c0.437.1125.1125a_dst-jpg_e35_s150x150&_nc_ht=instagram.fhyd2-2.fna.fbcdn.net&_nc_cat=103&_nc_ohc=ktUtH2Y5Px4AX-BTOrW&edm=AGW0Xe4BAAAA&ccb=7-5&oh=00_AfCeMptHfewVwgEASinh0JmGAKa46hUtAGy280PHv25VAQ&oe=63B44AE7&_nc_sid=acd11b',\n 'https://instagram.fhyd2-1.fna.fbcdn.net/v/t51.2885-15/280771530_353852990070340_3868114256413093628_n.jpg?stp=c0.437.1125.1125a_dst-jpg_e35_s150x150&_nc_ht=instagram.fhyd2-1.fna.fbcdn.net&_nc_cat=104&_nc_ohc=-2T08jXvwYEAX-HU-y9&edm=AGW0Xe4BAAAA&ccb=7-5&oh=00_AfCkJ2PJI7Dm8S1wAroL4N0raMMcQQFjt7z4YjVqg-9olA&oe=63B3FBD7&_nc_sid=acd11b',\n 'https://instagram.fhyd2-1.fna.fbcdn.net/v/t51.2885-15/183123099_480780916588613_6271353903378995278_n.jpg?stp=c0.420.1080.1080a_dst-jpg_e35_s150x150&_nc_ht=instagram.fhyd2-1.fna.fbcdn.net&_nc_cat=105&_nc_ohc=YqtdnEPN8EIAX9NU4uS&edm=AGW0Xe4BAAAA&ccb=7-5&oh=00_AfACeAHx6zycBL7erRuEkrLh1yAXnoWCfQXtFmYyi-qXFA&oe=63B46EB6&_nc_sid=acd11b',\n 'https://instagram.fhyd2-1.fna.fbcdn.net/v/t51.12442-15/78933144_2553873211507721_3758524935008966434_n.jpg?stp=c0.351.721.721a_dst-jpg_e35_s150x150&_nc_ht=instagram.fhyd2-1.fna.fbcdn.net&_nc_cat=105&_nc_ohc=bR6SNGHSgjUAX9Jdcrw&edm=AGW0Xe4BAAAA&ccb=7-5&oh=00_AfAHDhR-AoMZkXJ0N_NEgjWLlmnwqRxvU0H_4GEQ2TbuHw&oe=63B3FA50&_nc_sid=acd11b',\n 'https://instagram.fhyd2-2.fna.fbcdn.net/v/t51.2885-15/156854177_433063814473407_8585757316059530434_n.jpg?stp=c0.248.640.640a_dst-jpg_e15_s150x150&_nc_ht=instagram.fhyd2-2.fna.fbcdn.net&_nc_cat=103&_nc_ohc=AHRahNUdRMMAX_k9NGv&edm=AGW0Xe4BAAAA&ccb=7-5&oh=00_AfCtcc1vcbRPQ1MGCGKHvsSDOYOBphROGwdTP3ewmh6ePA&oe=63B42215&_nc_sid=acd11b',\n 'https://instagram.fhyd2-1.fna.fbcdn.net/v/t51.12442-15/24331794_2008305916071749_3800615091351584768_n.jpg?stp=c0.237.721.721a_dst-jpg_e35_s150x150&_nc_ht=instagram.fhyd2-1.fna.fbcdn.net&_nc_cat=105&_nc_ohc=4jEYT_pnif4AX_FmZZp&edm=AGW0Xe4BAAAA&ccb=7-5&oh=00_AfBUAxq-WnK3ktF_HsO8s7UQmrxN_iLGvLufxCzlvj_cPw&oe=63B47120&_nc_sid=acd11b',\n 'https://instagram.fhyd2-2.fna.fbcdn.net/v/t51.2885-15/249457051_1496740694058603_3500076822944515055_n.jpg?stp=dst-jpg_s150x150&_nc_ht=instagram.fhyd2-2.fna.fbcdn.net&_nc_cat=103&_nc_ohc=nI-GJlNyThUAX_kClNL&edm=AGW0Xe4BAAAA&ccb=7-5&oh=00_AfBZCRJqB4JmsPA-8DLyiYkDMs_V4yWiawaM-1EIAaNPTg&oe=63B81725&_nc_sid=acd11b',\n 'https://instagram.fhyd2-2.fna.fbcdn.net/v/t51.2885-15/256556308_901656013802451_3930241639230906324_n.jpg?stp=c0.248.640.640a_dst-jpg_e15_s150x150&_nc_ht=instagram.fhyd2-2.fna.fbcdn.net&_nc_cat=103&_nc_ohc=uZhn9LAFyFIAX_0W5X6&edm=AGW0Xe4BAAAA&ccb=7-5&oh=00_AfDjK92xg6V0Z2UVIZW84UtaQSuH0C_uToVLG-M0BMvDzw&oe=63B3F2C3&_nc_sid=acd11b',\n 'https://instagram.fhyd2-1.fna.fbcdn.net/v/t51.2885-15/143943925_2769259843327140_860778312639955395_n.jpg?stp=c0.420.1080.1080a_dst-jpg_e35_s150x150&_nc_ht=instagram.fhyd2-1.fna.fbcdn.net&_nc_cat=100&_nc_ohc=aeBxTZtDSnsAX_dorou&edm=AGW0Xe4BAAAA&ccb=7-5&oh=00_AfBEK6l3i_vR42nd6UUFhgDYd-oia0uFILcFxEsZ2p9LQQ&oe=63B3F0EC&_nc_sid=acd11b',\n 'https://instagram.fhyd2-1.fna.fbcdn.net/v/t51.2885-15/120311985_797790864379348_6059063183808086951_n.jpg?stp=c0.555.1080.1080a_dst-jpg_e35_s150x150&_nc_ht=instagram.fhyd2-1.fna.fbcdn.net&_nc_cat=104&_nc_ohc=GSoGKV3NqeQAX_L8SYb&edm=AGW0Xe4BAAAA&ccb=7-5&oh=00_AfDygCGEL5cpwEQBcdZU2eJ8pkCM9MlDDpqdPGaozX1RbQ&oe=63B43C76&_nc_sid=acd11b',\n 'https://instagram.fhyd2-1.fna.fbcdn.net/v/t51.2885-15/123132339_2722479018011833_1970623795534238867_n.jpg?stp=c0.555.1080.1080a_dst-jpg_e35_s150x150&_nc_ht=instagram.fhyd2-1.fna.fbcdn.net&_nc_cat=101&_nc_ohc=97CPdV0fEJoAX_-Pqcc&tn=YP210eL3F2W_Oi4S&edm=AGW0Xe4BAAAA&ccb=7-5&oh=00_AfDzGacY4cfxpdLn6R8bQFGctELDUdtBYc6libKTLFxfNQ&oe=63B3F75B&_nc_sid=acd11b',\n 'https://instagram.fhyd2-1.fna.fbcdn.net/v/t51.12442-15/67587617_157726408628810_2409652192195981360_n.jpg?stp=c0.526.1081.1081a_dst-jpg_e35_s150x150&_nc_ht=instagram.fhyd2-1.fna.fbcdn.net&_nc_cat=102&_nc_ohc=FMeRBam4tQUAX-YoDaq&tn=YP210eL3F2W_Oi4S&edm=AGW0Xe4BAAAA&ccb=7-5&oh=00_AfAKr_qwXaAj1Tzwlsy5j9D7rzio9PzURq8kzxu9xa1pLQ&oe=63B4001A&_nc_sid=acd11b',\n 'https://instagram.fhyd2-1.fna.fbcdn.net/v/t51.12442-15/43816533_934994919957746_7417448350666121868_n.jpg?stp=c0.420.1080.1080a_dst-jpg_e35_s150x150&_nc_ht=instagram.fhyd2-1.fna.fbcdn.net&_nc_cat=102&_nc_ohc=kCyfvfE5GdsAX9PvOuJ&edm=AGW0Xe4BAAAA&ccb=7-5&oh=00_AfBRzVHAPn77yQqYeFwDdgd3l8QmmvfaBHHotTIYiTynBg&oe=63B44DFC&_nc_sid=acd11b',\n 'https://instagram.fhyd2-1.fna.fbcdn.net/v/t51.2885-15/322656753_728516642211782_7083693316349838374_n.jpg?stp=dst-jpg_e35&_nc_ht=instagram.fhyd2-1.fna.fbcdn.net&_nc_cat=102&_nc_ohc=TubyEIDDLOQAX_8gr3h&edm=ACWDqb8BAAAA&ccb=7-5&ig_cache_key=MzAwMzkwMzkyMTEyNzQzMDQ5Nw%3D%3D.2-ccb7-5&oh=00_AfBvtEYb95JLB9rtZwn1lJmuFPNFvA6X67lzHcsi48r5iw&oe=63B7C36A&_nc_sid=1527a3',\n 'https://instagram.fhyd2-1.fna.fbcdn.net/v/t51.2885-15/321719866_175562948442883_3836463189588153257_n.jpg?stp=dst-jpg_e15&_nc_ht=instagram.fhyd2-1.fna.fbcdn.net&_nc_cat=107&_nc_ohc=UACA3uGEVTIAX8Zankp&edm=ACWDqb8BAAAA&ccb=7-5&ig_cache_key=MzAwMTEwNTQwOTM2MTk2NTQ2Mw%3D%3D.2-ccb7-5&oh=00_AfDRMpseWz7WqGPYL7-dz70RrAEF3dgld22cdVrRVj461Q&oe=63B6DE43&_nc_sid=1527a3',\n 'https://instagram.fhyd2-1.fna.fbcdn.net/v/t51.2885-15/321429990_3017675308540981_6890970793898826550_n.jpg?stp=dst-jpg_e35&_nc_ht=instagram.fhyd2-1.fna.fbcdn.net&_nc_cat=101&_nc_ohc=Kbuj3KoZg5oAX8Zuhop&edm=ACWDqb8BAAAA&ccb=7-5&ig_cache_key=MzAwMTAxNjk5MDQ1ODI3NTY1Mg%3D%3D.2-ccb7-5&oh=00_AfD7BeoGzCHAHUq_GXXOrxKy8IyxW4CuZ5L0OZCBblny4Q&oe=63B741D6&_nc_sid=1527a3',\n 'https://instagram.fhyd2-1.fna.fbcdn.net/v/t51.2885-15/321480488_1249982575862551_6146110074385748142_n.jpg?stp=dst-jpg_e35&_nc_ht=instagram.fhyd2-1.fna.fbcdn.net&_nc_cat=107&_nc_ohc=QbE16q0MD2UAX9sgCCD&edm=ACWDqb8BAAAA&ccb=7-5&ig_cache_key=MzAwMDM0NTE1MjMxNDAxMTIzOA%3D%3D.2-ccb7-5&oh=00_AfAWqfLJsEB2-Rh1MA3URpzdbe8Gm-2BrnB-J67FVsWNRg&oe=63B883C2&_nc_sid=1527a3',\n 'https://instagram.fhyd2-2.fna.fbcdn.net/v/t51.2885-15/321057860_1562127467561523_5873024369615501333_n.jpg?stp=dst-jpg_e35&_nc_ht=instagram.fhyd2-2.fna.fbcdn.net&_nc_cat=103&_nc_ohc=h3_MqreMapwAX93l-dO&tn=YP210eL3F2W_Oi4S&edm=ACWDqb8BAAAA&ccb=7-5&ig_cache_key=Mjk5OTU4ODA1OTYwNDc1MjIyNQ%3D%3D.2-ccb7-5&oh=00_AfCU4q_ycheT8NeUogNafXqBW0wKAqZI6CAdI1gDtm0Plw&oe=63B702F8&_nc_sid=1527a3',\n 'https://instagram.fhyd2-1.fna.fbcdn.net/v/t51.2885-15/320146891_911314266698930_1275131393467661330_n.jpg?stp=dst-jpg_e35&_nc_ht=instagram.fhyd2-1.fna.fbcdn.net&_nc_cat=102&_nc_ohc=MkF5yACWk6gAX8lT7xt&tn=YP210eL3F2W_Oi4S&edm=ACWDqb8BAAAA&ccb=7-5&ig_cache_key=Mjk5NDYwNTYxMDU1ODU4Mjc0Mw%3D%3D.2-ccb7-5&oh=00_AfC8qWvfAu_qmUojQPoDU-S-yYWy_OaAmlCGdi4ZAM1-Qw&oe=63B7618F&_nc_sid=1527a3',\n 'https://instagram.fhyd2-2.fna.fbcdn.net/v/t51.2885-15/318290272_5842720505751323_7196456183976263076_n.jpg?stp=dst-jpg_e35&_nc_ht=instagram.fhyd2-2.fna.fbcdn.net&_nc_cat=111&_nc_ohc=_X9DdO89jPkAX_vNd_b&edm=ACWDqb8BAAAA&ccb=7-5&ig_cache_key=Mjk4ODA1NzM3MDYxMDg0MzU1MQ%3D%3D.2-ccb7-5&oh=00_AfAafd57vjgU9TATPBPgiAVbu-l4bukl3lK7oFK_ebPpcw&oe=63B73FAE&_nc_sid=1527a3',\n 'https://instagram.fhyd2-1.fna.fbcdn.net/v/t51.2885-15/317864318_512297724165115_5644990853558909252_n.jpg?stp=dst-jpg_e15&_nc_ht=instagram.fhyd2-1.fna.fbcdn.net&_nc_cat=107&_nc_ohc=zhlJmp_ei8YAX9vFA_w&edm=ACWDqb8BAAAA&ccb=7-5&ig_cache_key=Mjk4NTA2NTI5NTUzMTY5ODIwOQ%3D%3D.2-ccb7-5&oh=00_AfDrN8hNcfZMkUGITQK2jTPmg-JEpX0lLf4forS7xsYefg&oe=63B7F477&_nc_sid=1527a3',\n 'https://instagram.fhyd2-2.fna.fbcdn.net/v/t51.2885-15/317783734_852077769477083_3037879849836093604_n.jpg?stp=dst-jpg_e15&_nc_ht=instagram.fhyd2-2.fna.fbcdn.net&_nc_cat=111&_nc_ohc=EBxUn5xRmwcAX9nqF8p&tn=YP210eL3F2W_Oi4S&edm=ACWDqb8BAAAA&ccb=7-5&ig_cache_key=Mjk4NDEyNTIzOTU0NzQ2MjMyMA%3D%3D.2-ccb7-5&oh=00_AfDenVvLz3g8jyuLGyaI9hFt5DL7xG0av3y66e2A7t_pYA&oe=63B7CA80&_nc_sid=1527a3',\n 'https://instagram.fhyd2-2.fna.fbcdn.net/v/t51.2885-15/317341291_983799689261216_2504858002388597566_n.jpg?stp=dst-jpg_e35&_nc_ht=instagram.fhyd2-2.fna.fbcdn.net&_nc_cat=108&_nc_ohc=OfR3cX_ZwhsAX_nU1XB&edm=ACWDqb8BAAAA&ccb=7-5&ig_cache_key=Mjk4MjI3MTYyNjEwNTQ0NzkzNg%3D%3D.2-ccb7-5&oh=00_AfCeYfuiiGg8aUueHeIU1IoeCv0HfFQg3HOxLfgtHtt0ZA&oe=63B6F0ED&_nc_sid=1527a3',\n 'https://instagram.fhyd2-1.fna.fbcdn.net/v/t51.2885-15/316721696_835465340843131_8766594976727145823_n.jpg?stp=dst-jpg_e15&_nc_ht=instagram.fhyd2-1.fna.fbcdn.net&_nc_cat=107&_nc_ohc=rCqzVaE6CYUAX9cvETl&edm=ACWDqb8BAAAA&ccb=7-5&ig_cache_key=Mjk3ODYyODA0NDAwNjE1ODQ2Ng%3D%3D.2-ccb7-5&oh=00_AfDxnxcViwwDZ4Q3l9V8REKAwy-_1MYPtsYo8V19Izvuaw&oe=63B80435&_nc_sid=1527a3',\n 'https://instagram.fhyd2-2.fna.fbcdn.net/v/t51.2885-15/314205773_127898390061418_3811579095999865702_n.jpg?stp=dst-jpg_e35&_nc_ht=instagram.fhyd2-2.fna.fbcdn.net&_nc_cat=110&_nc_ohc=d2C-27Ar36IAX_wIXQp&edm=ACWDqb8BAAAA&ccb=7-5&ig_cache_key=Mjk2NDg4NjM1NjE5MjM3ODEzMA%3D%3D.2-ccb7-5&oh=00_AfCFxr-6MlcjYZ7uZnLFGFil9UlDd_467J4UCCN6OFkHeg&oe=63B82359&_nc_sid=1527a3']"
     },
     "execution_count": 23,
     "metadata": {},
     "output_type": "execute_result"
    }
   ],
   "source": [
    "images"
   ],
   "metadata": {
    "collapsed": false
   }
  },
  {
   "cell_type": "code",
   "execution_count": 24,
   "outputs": [
    {
     "data": {
      "text/plain": "32"
     },
     "execution_count": 24,
     "metadata": {},
     "output_type": "execute_result"
    }
   ],
   "source": [
    "len(images)"
   ],
   "metadata": {
    "collapsed": false
   }
  },
  {
   "cell_type": "markdown",
   "source": [
    "## Saving Images To Local Directory"
   ],
   "metadata": {
    "collapsed": false
   }
  },
  {
   "cell_type": "code",
   "execution_count": 25,
   "outputs": [],
   "source": [
    "import os"
   ],
   "metadata": {
    "collapsed": false
   }
  },
  {
   "cell_type": "code",
   "execution_count": 26,
   "outputs": [],
   "source": [
    "path = os.getcwd()"
   ],
   "metadata": {
    "collapsed": false
   }
  },
  {
   "cell_type": "code",
   "execution_count": 27,
   "outputs": [
    {
     "data": {
      "text/plain": "'/Users/nithinsaikrishna/PycharmProjects/pythonProject/InstaAPI'"
     },
     "execution_count": 27,
     "metadata": {},
     "output_type": "execute_result"
    }
   ],
   "source": [
    "path"
   ],
   "metadata": {
    "collapsed": false
   }
  },
  {
   "cell_type": "code",
   "execution_count": 28,
   "outputs": [],
   "source": [
    "path = os.path.join(path,keyword[1:] + \"s\")"
   ],
   "metadata": {
    "collapsed": false
   }
  },
  {
   "cell_type": "code",
   "execution_count": 29,
   "outputs": [
    {
     "ename": "FileExistsError",
     "evalue": "[Errno 17] File exists: '/Users/nithinsaikrishna/PycharmProjects/pythonProject/InstaAPI/hannu_7s'",
     "output_type": "error",
     "traceback": [
      "\u001B[0;31m---------------------------------------------------------------------------\u001B[0m",
      "\u001B[0;31mFileExistsError\u001B[0m                           Traceback (most recent call last)",
      "Cell \u001B[0;32mIn[29], line 1\u001B[0m\n\u001B[0;32m----> 1\u001B[0m \u001B[43mos\u001B[49m\u001B[38;5;241;43m.\u001B[39;49m\u001B[43mmkdir\u001B[49m\u001B[43m(\u001B[49m\u001B[43mpath\u001B[49m\u001B[43m)\u001B[49m\n",
      "\u001B[0;31mFileExistsError\u001B[0m: [Errno 17] File exists: '/Users/nithinsaikrishna/PycharmProjects/pythonProject/InstaAPI/hannu_7s'"
     ]
    }
   ],
   "source": [
    "os.mkdir(path)"
   ],
   "metadata": {
    "collapsed": false
   }
  },
  {
   "cell_type": "code",
   "execution_count": 29,
   "outputs": [],
   "source": [],
   "metadata": {
    "collapsed": false
   }
  },
  {
   "cell_type": "code",
   "execution_count": 29,
   "outputs": [],
   "source": [],
   "metadata": {
    "collapsed": false
   }
  },
  {
   "cell_type": "code",
   "execution_count": 38,
   "outputs": [
    {
     "ename": "ValueError",
     "evalue": "not enough values to unpack (expected 2, got 1)",
     "output_type": "error",
     "traceback": [
      "\u001B[0;31m---------------------------------------------------------------------------\u001B[0m",
      "\u001B[0;31mValueError\u001B[0m                                Traceback (most recent call last)",
      "Cell \u001B[0;32mIn[38], line 4\u001B[0m\n\u001B[1;32m      2\u001B[0m \u001B[38;5;28;01mfor\u001B[39;00m image \u001B[38;5;129;01min\u001B[39;00m images:\n\u001B[1;32m      3\u001B[0m     save_as \u001B[38;5;241m=\u001B[39m os\u001B[38;5;241m.\u001B[39mpath\u001B[38;5;241m.\u001B[39mjoin(path,keyword[\u001B[38;5;241m1\u001B[39m:] \u001B[38;5;241m+\u001B[39m \u001B[38;5;28mstr\u001B[39m(counter) \u001B[38;5;241m+\u001B[39m \u001B[38;5;124m'\u001B[39m\u001B[38;5;124m.jpg\u001B[39m\u001B[38;5;124m'\u001B[39m)\n\u001B[0;32m----> 4\u001B[0m     \u001B[43mwget\u001B[49m\u001B[38;5;241;43m.\u001B[39;49m\u001B[43mdownload\u001B[49m\u001B[43m(\u001B[49m\u001B[43mimage\u001B[49m\u001B[43m,\u001B[49m\u001B[43msave_as\u001B[49m\u001B[43m)\u001B[49m\n\u001B[1;32m      5\u001B[0m     counter\u001B[38;5;241m+\u001B[39m\u001B[38;5;241m=\u001B[39m\u001B[38;5;241m1\u001B[39m\n",
      "File \u001B[0;32m~/PycharmProjects/pythonProject/InstaAPI/venv/lib/python3.11/site-packages/wget.py:526\u001B[0m, in \u001B[0;36mdownload\u001B[0;34m(url, out, bar)\u001B[0m\n\u001B[1;32m    524\u001B[0m \u001B[38;5;28;01melse\u001B[39;00m:\n\u001B[1;32m    525\u001B[0m     binurl \u001B[38;5;241m=\u001B[39m url\n\u001B[0;32m--> 526\u001B[0m (tmpfile, headers) \u001B[38;5;241m=\u001B[39m \u001B[43mulib\u001B[49m\u001B[38;5;241;43m.\u001B[39;49m\u001B[43murlretrieve\u001B[49m\u001B[43m(\u001B[49m\u001B[43mbinurl\u001B[49m\u001B[43m,\u001B[49m\u001B[43m \u001B[49m\u001B[43mtmpfile\u001B[49m\u001B[43m,\u001B[49m\u001B[43m \u001B[49m\u001B[43mcallback\u001B[49m\u001B[43m)\u001B[49m\n\u001B[1;32m    527\u001B[0m filename \u001B[38;5;241m=\u001B[39m detect_filename(url, out, headers)\n\u001B[1;32m    528\u001B[0m \u001B[38;5;28;01mif\u001B[39;00m outdir:\n",
      "File \u001B[0;32m/Library/Frameworks/Python.framework/Versions/3.11/lib/python3.11/urllib/request.py:241\u001B[0m, in \u001B[0;36murlretrieve\u001B[0;34m(url, filename, reporthook, data)\u001B[0m\n\u001B[1;32m    224\u001B[0m \u001B[38;5;250m\u001B[39m\u001B[38;5;124;03m\"\"\"\u001B[39;00m\n\u001B[1;32m    225\u001B[0m \u001B[38;5;124;03mRetrieve a URL into a temporary location on disk.\u001B[39;00m\n\u001B[1;32m    226\u001B[0m \n\u001B[0;32m   (...)\u001B[0m\n\u001B[1;32m    237\u001B[0m \u001B[38;5;124;03mdata file as well as the resulting HTTPMessage object.\u001B[39;00m\n\u001B[1;32m    238\u001B[0m \u001B[38;5;124;03m\"\"\"\u001B[39;00m\n\u001B[1;32m    239\u001B[0m url_type, path \u001B[38;5;241m=\u001B[39m _splittype(url)\n\u001B[0;32m--> 241\u001B[0m \u001B[38;5;28;01mwith\u001B[39;00m contextlib\u001B[38;5;241m.\u001B[39mclosing(\u001B[43murlopen\u001B[49m\u001B[43m(\u001B[49m\u001B[43murl\u001B[49m\u001B[43m,\u001B[49m\u001B[43m \u001B[49m\u001B[43mdata\u001B[49m\u001B[43m)\u001B[49m) \u001B[38;5;28;01mas\u001B[39;00m fp:\n\u001B[1;32m    242\u001B[0m     headers \u001B[38;5;241m=\u001B[39m fp\u001B[38;5;241m.\u001B[39minfo()\n\u001B[1;32m    244\u001B[0m     \u001B[38;5;66;03m# Just return the local path and the \"headers\" for file://\u001B[39;00m\n\u001B[1;32m    245\u001B[0m     \u001B[38;5;66;03m# URLs. No sense in performing a copy unless requested.\u001B[39;00m\n",
      "File \u001B[0;32m/Library/Frameworks/Python.framework/Versions/3.11/lib/python3.11/urllib/request.py:216\u001B[0m, in \u001B[0;36murlopen\u001B[0;34m(url, data, timeout, cafile, capath, cadefault, context)\u001B[0m\n\u001B[1;32m    214\u001B[0m \u001B[38;5;28;01melse\u001B[39;00m:\n\u001B[1;32m    215\u001B[0m     opener \u001B[38;5;241m=\u001B[39m _opener\n\u001B[0;32m--> 216\u001B[0m \u001B[38;5;28;01mreturn\u001B[39;00m \u001B[43mopener\u001B[49m\u001B[38;5;241;43m.\u001B[39;49m\u001B[43mopen\u001B[49m\u001B[43m(\u001B[49m\u001B[43murl\u001B[49m\u001B[43m,\u001B[49m\u001B[43m \u001B[49m\u001B[43mdata\u001B[49m\u001B[43m,\u001B[49m\u001B[43m \u001B[49m\u001B[43mtimeout\u001B[49m\u001B[43m)\u001B[49m\n",
      "File \u001B[0;32m/Library/Frameworks/Python.framework/Versions/3.11/lib/python3.11/urllib/request.py:519\u001B[0m, in \u001B[0;36mOpenerDirector.open\u001B[0;34m(self, fullurl, data, timeout)\u001B[0m\n\u001B[1;32m    516\u001B[0m     req \u001B[38;5;241m=\u001B[39m meth(req)\n\u001B[1;32m    518\u001B[0m sys\u001B[38;5;241m.\u001B[39maudit(\u001B[38;5;124m'\u001B[39m\u001B[38;5;124murllib.Request\u001B[39m\u001B[38;5;124m'\u001B[39m, req\u001B[38;5;241m.\u001B[39mfull_url, req\u001B[38;5;241m.\u001B[39mdata, req\u001B[38;5;241m.\u001B[39mheaders, req\u001B[38;5;241m.\u001B[39mget_method())\n\u001B[0;32m--> 519\u001B[0m response \u001B[38;5;241m=\u001B[39m \u001B[38;5;28;43mself\u001B[39;49m\u001B[38;5;241;43m.\u001B[39;49m\u001B[43m_open\u001B[49m\u001B[43m(\u001B[49m\u001B[43mreq\u001B[49m\u001B[43m,\u001B[49m\u001B[43m \u001B[49m\u001B[43mdata\u001B[49m\u001B[43m)\u001B[49m\n\u001B[1;32m    521\u001B[0m \u001B[38;5;66;03m# post-process response\u001B[39;00m\n\u001B[1;32m    522\u001B[0m meth_name \u001B[38;5;241m=\u001B[39m protocol\u001B[38;5;241m+\u001B[39m\u001B[38;5;124m\"\u001B[39m\u001B[38;5;124m_response\u001B[39m\u001B[38;5;124m\"\u001B[39m\n",
      "File \u001B[0;32m/Library/Frameworks/Python.framework/Versions/3.11/lib/python3.11/urllib/request.py:536\u001B[0m, in \u001B[0;36mOpenerDirector._open\u001B[0;34m(self, req, data)\u001B[0m\n\u001B[1;32m    533\u001B[0m     \u001B[38;5;28;01mreturn\u001B[39;00m result\n\u001B[1;32m    535\u001B[0m protocol \u001B[38;5;241m=\u001B[39m req\u001B[38;5;241m.\u001B[39mtype\n\u001B[0;32m--> 536\u001B[0m result \u001B[38;5;241m=\u001B[39m \u001B[38;5;28;43mself\u001B[39;49m\u001B[38;5;241;43m.\u001B[39;49m\u001B[43m_call_chain\u001B[49m\u001B[43m(\u001B[49m\u001B[38;5;28;43mself\u001B[39;49m\u001B[38;5;241;43m.\u001B[39;49m\u001B[43mhandle_open\u001B[49m\u001B[43m,\u001B[49m\u001B[43m \u001B[49m\u001B[43mprotocol\u001B[49m\u001B[43m,\u001B[49m\u001B[43m \u001B[49m\u001B[43mprotocol\u001B[49m\u001B[43m \u001B[49m\u001B[38;5;241;43m+\u001B[39;49m\n\u001B[1;32m    537\u001B[0m \u001B[43m                          \u001B[49m\u001B[38;5;124;43m'\u001B[39;49m\u001B[38;5;124;43m_open\u001B[39;49m\u001B[38;5;124;43m'\u001B[39;49m\u001B[43m,\u001B[49m\u001B[43m \u001B[49m\u001B[43mreq\u001B[49m\u001B[43m)\u001B[49m\n\u001B[1;32m    538\u001B[0m \u001B[38;5;28;01mif\u001B[39;00m result:\n\u001B[1;32m    539\u001B[0m     \u001B[38;5;28;01mreturn\u001B[39;00m result\n",
      "File \u001B[0;32m/Library/Frameworks/Python.framework/Versions/3.11/lib/python3.11/urllib/request.py:496\u001B[0m, in \u001B[0;36mOpenerDirector._call_chain\u001B[0;34m(self, chain, kind, meth_name, *args)\u001B[0m\n\u001B[1;32m    494\u001B[0m \u001B[38;5;28;01mfor\u001B[39;00m handler \u001B[38;5;129;01min\u001B[39;00m handlers:\n\u001B[1;32m    495\u001B[0m     func \u001B[38;5;241m=\u001B[39m \u001B[38;5;28mgetattr\u001B[39m(handler, meth_name)\n\u001B[0;32m--> 496\u001B[0m     result \u001B[38;5;241m=\u001B[39m \u001B[43mfunc\u001B[49m\u001B[43m(\u001B[49m\u001B[38;5;241;43m*\u001B[39;49m\u001B[43margs\u001B[49m\u001B[43m)\u001B[49m\n\u001B[1;32m    497\u001B[0m     \u001B[38;5;28;01mif\u001B[39;00m result \u001B[38;5;129;01mis\u001B[39;00m \u001B[38;5;129;01mnot\u001B[39;00m \u001B[38;5;28;01mNone\u001B[39;00m:\n\u001B[1;32m    498\u001B[0m         \u001B[38;5;28;01mreturn\u001B[39;00m result\n",
      "File \u001B[0;32m/Library/Frameworks/Python.framework/Versions/3.11/lib/python3.11/urllib/request.py:1655\u001B[0m, in \u001B[0;36mDataHandler.data_open\u001B[0;34m(self, req)\u001B[0m\n\u001B[1;32m   1652\u001B[0m url \u001B[38;5;241m=\u001B[39m req\u001B[38;5;241m.\u001B[39mfull_url\n\u001B[1;32m   1654\u001B[0m scheme, data \u001B[38;5;241m=\u001B[39m url\u001B[38;5;241m.\u001B[39msplit(\u001B[38;5;124m\"\u001B[39m\u001B[38;5;124m:\u001B[39m\u001B[38;5;124m\"\u001B[39m,\u001B[38;5;241m1\u001B[39m)\n\u001B[0;32m-> 1655\u001B[0m mediatype, data \u001B[38;5;241m=\u001B[39m data\u001B[38;5;241m.\u001B[39msplit(\u001B[38;5;124m\"\u001B[39m\u001B[38;5;124m,\u001B[39m\u001B[38;5;124m\"\u001B[39m,\u001B[38;5;241m1\u001B[39m)\n\u001B[1;32m   1657\u001B[0m \u001B[38;5;66;03m# even base64 encoded data URLs might be quoted so unquote in any case:\u001B[39;00m\n\u001B[1;32m   1658\u001B[0m data \u001B[38;5;241m=\u001B[39m unquote_to_bytes(data)\n",
      "\u001B[0;31mValueError\u001B[0m: not enough values to unpack (expected 2, got 1)"
     ]
    }
   ],
   "source": [
    "counter = 0\n",
    "for image in images:\n",
    "    save_as = os.path.join(path,keyword[1:] + str(counter) + '.jpg')\n",
    "    wget.download(image,save_as)\n",
    "    counter+=1\n"
   ],
   "metadata": {
    "collapsed": false
   }
  },
  {
   "cell_type": "code",
   "execution_count": 31,
   "outputs": [],
   "source": [
    "# wget.download(image in images)"
   ],
   "metadata": {
    "collapsed": false
   }
  },
  {
   "cell_type": "code",
   "execution_count": 32,
   "outputs": [],
   "source": [
    "html_list = list()\n",
    "for i in images:\n",
    "    if \"https\" in i:\n",
    "        html_list.append(i)"
   ],
   "metadata": {
    "collapsed": false
   }
  },
  {
   "cell_type": "code",
   "execution_count": 33,
   "outputs": [
    {
     "data": {
      "text/plain": "['https://scontent.cdninstagram.com/v/t51.2885-19/152455501_118827793492139_4981036572940766504_n.jpg?stp=dst-jpg_s150x150&_nc_ht=scontent.cdninstagram.com&_nc_cat=111&_nc_ohc=5zBvViP6HOwAX_DApPc&edm=APs17CUBAAAA&ccb=7-5&oh=00_AfAFVV0oC5nTw2__hBhOy2h79kC6T2Q2AT7KIhyEF-7lwQ&oe=63B6F1E1&_nc_sid=978cb9',\n 'https://instagram.fhyd2-2.fna.fbcdn.net/v/t51.2885-19/320177261_1787837671600441_5137752268892292531_n.jpg?stp=dst-jpg_s150x150&_nc_ht=instagram.fhyd2-2.fna.fbcdn.net&_nc_cat=1&_nc_ohc=gMvNX1lysPoAX_WyT5l&tn=YP210eL3F2W_Oi4S&edm=ABmJApABAAAA&ccb=7-5&oh=00_AfCk6vXRtu53773Gn_8YPk1as8z3mYcs65zp_-AgFdKTNw&oe=63B87CB8&_nc_sid=6136e7',\n 'https://instagram.fhyd2-2.fna.fbcdn.net/v/t51.2885-15/319882869_650951566761476_6121096505978202255_n.jpg?stp=c0.499.1284.1284a_dst-jpg_e35_s150x150&_nc_ht=instagram.fhyd2-2.fna.fbcdn.net&_nc_cat=108&_nc_ohc=NhZqVH7gTNwAX_fWKiP&edm=AGW0Xe4BAAAA&ccb=7-5&oh=00_AfAdPwQcseadajkcyP4v0Kwrq3G5NDj7Hu4zi49HeZ8Q3Q&oe=63B43E8B&_nc_sid=acd11b',\n 'https://instagram.fhyd2-2.fna.fbcdn.net/v/t51.12442-15/25013827_279858702538270_1804861634213052416_n.jpg?stp=c0.237.720.720a_dst-jpg_e35_s150x150&_nc_ht=instagram.fhyd2-2.fna.fbcdn.net&_nc_cat=110&_nc_ohc=vSMhb5jxXxEAX8REpSM&edm=AGW0Xe4BAAAA&ccb=7-5&oh=00_AfDeg3-emIH9GslOO6aYRJjSbDHel5gJdC3CvCe_4RXEqA&oe=63B48AA4&_nc_sid=acd11b',\n 'https://instagram.fhyd2-1.fna.fbcdn.net/v/t51.2885-15/306291482_189361526841941_4348759151212039810_n.jpg?stp=c21.530.590.590a_dst-jpg_e15_s150x150&_nc_ht=instagram.fhyd2-1.fna.fbcdn.net&_nc_cat=105&_nc_ohc=PiCyYr3EiaMAX_Wnbmm&edm=AGW0Xe4BAAAA&ccb=7-5&oh=00_AfB_VzMpgdZ85MOr7HjXNn6UIfVNA_2A7nu4xrkhnKXVjg&oe=63B4814C&_nc_sid=acd11b',\n 'https://instagram.fhyd2-2.fna.fbcdn.net/v/t51.2885-15/277601188_174213228272931_3363189348435802702_n.jpg?stp=c0.437.1125.1125a_dst-jpg_e35_s150x150&_nc_ht=instagram.fhyd2-2.fna.fbcdn.net&_nc_cat=103&_nc_ohc=ktUtH2Y5Px4AX-BTOrW&edm=AGW0Xe4BAAAA&ccb=7-5&oh=00_AfCeMptHfewVwgEASinh0JmGAKa46hUtAGy280PHv25VAQ&oe=63B44AE7&_nc_sid=acd11b',\n 'https://instagram.fhyd2-1.fna.fbcdn.net/v/t51.2885-15/280771530_353852990070340_3868114256413093628_n.jpg?stp=c0.437.1125.1125a_dst-jpg_e35_s150x150&_nc_ht=instagram.fhyd2-1.fna.fbcdn.net&_nc_cat=104&_nc_ohc=-2T08jXvwYEAX-HU-y9&edm=AGW0Xe4BAAAA&ccb=7-5&oh=00_AfCkJ2PJI7Dm8S1wAroL4N0raMMcQQFjt7z4YjVqg-9olA&oe=63B3FBD7&_nc_sid=acd11b',\n 'https://instagram.fhyd2-1.fna.fbcdn.net/v/t51.2885-15/183123099_480780916588613_6271353903378995278_n.jpg?stp=c0.420.1080.1080a_dst-jpg_e35_s150x150&_nc_ht=instagram.fhyd2-1.fna.fbcdn.net&_nc_cat=105&_nc_ohc=YqtdnEPN8EIAX9NU4uS&edm=AGW0Xe4BAAAA&ccb=7-5&oh=00_AfACeAHx6zycBL7erRuEkrLh1yAXnoWCfQXtFmYyi-qXFA&oe=63B46EB6&_nc_sid=acd11b',\n 'https://instagram.fhyd2-1.fna.fbcdn.net/v/t51.12442-15/78933144_2553873211507721_3758524935008966434_n.jpg?stp=c0.351.721.721a_dst-jpg_e35_s150x150&_nc_ht=instagram.fhyd2-1.fna.fbcdn.net&_nc_cat=105&_nc_ohc=bR6SNGHSgjUAX9Jdcrw&edm=AGW0Xe4BAAAA&ccb=7-5&oh=00_AfAHDhR-AoMZkXJ0N_NEgjWLlmnwqRxvU0H_4GEQ2TbuHw&oe=63B3FA50&_nc_sid=acd11b',\n 'https://instagram.fhyd2-2.fna.fbcdn.net/v/t51.2885-15/156854177_433063814473407_8585757316059530434_n.jpg?stp=c0.248.640.640a_dst-jpg_e15_s150x150&_nc_ht=instagram.fhyd2-2.fna.fbcdn.net&_nc_cat=103&_nc_ohc=AHRahNUdRMMAX_k9NGv&edm=AGW0Xe4BAAAA&ccb=7-5&oh=00_AfCtcc1vcbRPQ1MGCGKHvsSDOYOBphROGwdTP3ewmh6ePA&oe=63B42215&_nc_sid=acd11b',\n 'https://instagram.fhyd2-1.fna.fbcdn.net/v/t51.12442-15/24331794_2008305916071749_3800615091351584768_n.jpg?stp=c0.237.721.721a_dst-jpg_e35_s150x150&_nc_ht=instagram.fhyd2-1.fna.fbcdn.net&_nc_cat=105&_nc_ohc=4jEYT_pnif4AX_FmZZp&edm=AGW0Xe4BAAAA&ccb=7-5&oh=00_AfBUAxq-WnK3ktF_HsO8s7UQmrxN_iLGvLufxCzlvj_cPw&oe=63B47120&_nc_sid=acd11b',\n 'https://instagram.fhyd2-2.fna.fbcdn.net/v/t51.2885-15/249457051_1496740694058603_3500076822944515055_n.jpg?stp=dst-jpg_s150x150&_nc_ht=instagram.fhyd2-2.fna.fbcdn.net&_nc_cat=103&_nc_ohc=nI-GJlNyThUAX_kClNL&edm=AGW0Xe4BAAAA&ccb=7-5&oh=00_AfBZCRJqB4JmsPA-8DLyiYkDMs_V4yWiawaM-1EIAaNPTg&oe=63B81725&_nc_sid=acd11b',\n 'https://instagram.fhyd2-2.fna.fbcdn.net/v/t51.2885-15/256556308_901656013802451_3930241639230906324_n.jpg?stp=c0.248.640.640a_dst-jpg_e15_s150x150&_nc_ht=instagram.fhyd2-2.fna.fbcdn.net&_nc_cat=103&_nc_ohc=uZhn9LAFyFIAX_0W5X6&edm=AGW0Xe4BAAAA&ccb=7-5&oh=00_AfDjK92xg6V0Z2UVIZW84UtaQSuH0C_uToVLG-M0BMvDzw&oe=63B3F2C3&_nc_sid=acd11b',\n 'https://instagram.fhyd2-1.fna.fbcdn.net/v/t51.2885-15/143943925_2769259843327140_860778312639955395_n.jpg?stp=c0.420.1080.1080a_dst-jpg_e35_s150x150&_nc_ht=instagram.fhyd2-1.fna.fbcdn.net&_nc_cat=100&_nc_ohc=aeBxTZtDSnsAX_dorou&edm=AGW0Xe4BAAAA&ccb=7-5&oh=00_AfBEK6l3i_vR42nd6UUFhgDYd-oia0uFILcFxEsZ2p9LQQ&oe=63B3F0EC&_nc_sid=acd11b',\n 'https://instagram.fhyd2-1.fna.fbcdn.net/v/t51.2885-15/120311985_797790864379348_6059063183808086951_n.jpg?stp=c0.555.1080.1080a_dst-jpg_e35_s150x150&_nc_ht=instagram.fhyd2-1.fna.fbcdn.net&_nc_cat=104&_nc_ohc=GSoGKV3NqeQAX_L8SYb&edm=AGW0Xe4BAAAA&ccb=7-5&oh=00_AfDygCGEL5cpwEQBcdZU2eJ8pkCM9MlDDpqdPGaozX1RbQ&oe=63B43C76&_nc_sid=acd11b',\n 'https://instagram.fhyd2-1.fna.fbcdn.net/v/t51.2885-15/123132339_2722479018011833_1970623795534238867_n.jpg?stp=c0.555.1080.1080a_dst-jpg_e35_s150x150&_nc_ht=instagram.fhyd2-1.fna.fbcdn.net&_nc_cat=101&_nc_ohc=97CPdV0fEJoAX_-Pqcc&tn=YP210eL3F2W_Oi4S&edm=AGW0Xe4BAAAA&ccb=7-5&oh=00_AfDzGacY4cfxpdLn6R8bQFGctELDUdtBYc6libKTLFxfNQ&oe=63B3F75B&_nc_sid=acd11b',\n 'https://instagram.fhyd2-1.fna.fbcdn.net/v/t51.12442-15/67587617_157726408628810_2409652192195981360_n.jpg?stp=c0.526.1081.1081a_dst-jpg_e35_s150x150&_nc_ht=instagram.fhyd2-1.fna.fbcdn.net&_nc_cat=102&_nc_ohc=FMeRBam4tQUAX-YoDaq&tn=YP210eL3F2W_Oi4S&edm=AGW0Xe4BAAAA&ccb=7-5&oh=00_AfAKr_qwXaAj1Tzwlsy5j9D7rzio9PzURq8kzxu9xa1pLQ&oe=63B4001A&_nc_sid=acd11b',\n 'https://instagram.fhyd2-1.fna.fbcdn.net/v/t51.12442-15/43816533_934994919957746_7417448350666121868_n.jpg?stp=c0.420.1080.1080a_dst-jpg_e35_s150x150&_nc_ht=instagram.fhyd2-1.fna.fbcdn.net&_nc_cat=102&_nc_ohc=kCyfvfE5GdsAX9PvOuJ&edm=AGW0Xe4BAAAA&ccb=7-5&oh=00_AfBRzVHAPn77yQqYeFwDdgd3l8QmmvfaBHHotTIYiTynBg&oe=63B44DFC&_nc_sid=acd11b',\n 'https://instagram.fhyd2-1.fna.fbcdn.net/v/t51.2885-15/322656753_728516642211782_7083693316349838374_n.jpg?stp=dst-jpg_e35&_nc_ht=instagram.fhyd2-1.fna.fbcdn.net&_nc_cat=102&_nc_ohc=TubyEIDDLOQAX_8gr3h&edm=ACWDqb8BAAAA&ccb=7-5&ig_cache_key=MzAwMzkwMzkyMTEyNzQzMDQ5Nw%3D%3D.2-ccb7-5&oh=00_AfBvtEYb95JLB9rtZwn1lJmuFPNFvA6X67lzHcsi48r5iw&oe=63B7C36A&_nc_sid=1527a3',\n 'https://instagram.fhyd2-1.fna.fbcdn.net/v/t51.2885-15/321719866_175562948442883_3836463189588153257_n.jpg?stp=dst-jpg_e15&_nc_ht=instagram.fhyd2-1.fna.fbcdn.net&_nc_cat=107&_nc_ohc=UACA3uGEVTIAX8Zankp&edm=ACWDqb8BAAAA&ccb=7-5&ig_cache_key=MzAwMTEwNTQwOTM2MTk2NTQ2Mw%3D%3D.2-ccb7-5&oh=00_AfDRMpseWz7WqGPYL7-dz70RrAEF3dgld22cdVrRVj461Q&oe=63B6DE43&_nc_sid=1527a3',\n 'https://instagram.fhyd2-1.fna.fbcdn.net/v/t51.2885-15/321429990_3017675308540981_6890970793898826550_n.jpg?stp=dst-jpg_e35&_nc_ht=instagram.fhyd2-1.fna.fbcdn.net&_nc_cat=101&_nc_ohc=Kbuj3KoZg5oAX8Zuhop&edm=ACWDqb8BAAAA&ccb=7-5&ig_cache_key=MzAwMTAxNjk5MDQ1ODI3NTY1Mg%3D%3D.2-ccb7-5&oh=00_AfD7BeoGzCHAHUq_GXXOrxKy8IyxW4CuZ5L0OZCBblny4Q&oe=63B741D6&_nc_sid=1527a3',\n 'https://instagram.fhyd2-1.fna.fbcdn.net/v/t51.2885-15/321480488_1249982575862551_6146110074385748142_n.jpg?stp=dst-jpg_e35&_nc_ht=instagram.fhyd2-1.fna.fbcdn.net&_nc_cat=107&_nc_ohc=QbE16q0MD2UAX9sgCCD&edm=ACWDqb8BAAAA&ccb=7-5&ig_cache_key=MzAwMDM0NTE1MjMxNDAxMTIzOA%3D%3D.2-ccb7-5&oh=00_AfAWqfLJsEB2-Rh1MA3URpzdbe8Gm-2BrnB-J67FVsWNRg&oe=63B883C2&_nc_sid=1527a3',\n 'https://instagram.fhyd2-2.fna.fbcdn.net/v/t51.2885-15/321057860_1562127467561523_5873024369615501333_n.jpg?stp=dst-jpg_e35&_nc_ht=instagram.fhyd2-2.fna.fbcdn.net&_nc_cat=103&_nc_ohc=h3_MqreMapwAX93l-dO&tn=YP210eL3F2W_Oi4S&edm=ACWDqb8BAAAA&ccb=7-5&ig_cache_key=Mjk5OTU4ODA1OTYwNDc1MjIyNQ%3D%3D.2-ccb7-5&oh=00_AfCU4q_ycheT8NeUogNafXqBW0wKAqZI6CAdI1gDtm0Plw&oe=63B702F8&_nc_sid=1527a3',\n 'https://instagram.fhyd2-1.fna.fbcdn.net/v/t51.2885-15/320146891_911314266698930_1275131393467661330_n.jpg?stp=dst-jpg_e35&_nc_ht=instagram.fhyd2-1.fna.fbcdn.net&_nc_cat=102&_nc_ohc=MkF5yACWk6gAX8lT7xt&tn=YP210eL3F2W_Oi4S&edm=ACWDqb8BAAAA&ccb=7-5&ig_cache_key=Mjk5NDYwNTYxMDU1ODU4Mjc0Mw%3D%3D.2-ccb7-5&oh=00_AfC8qWvfAu_qmUojQPoDU-S-yYWy_OaAmlCGdi4ZAM1-Qw&oe=63B7618F&_nc_sid=1527a3',\n 'https://instagram.fhyd2-2.fna.fbcdn.net/v/t51.2885-15/318290272_5842720505751323_7196456183976263076_n.jpg?stp=dst-jpg_e35&_nc_ht=instagram.fhyd2-2.fna.fbcdn.net&_nc_cat=111&_nc_ohc=_X9DdO89jPkAX_vNd_b&edm=ACWDqb8BAAAA&ccb=7-5&ig_cache_key=Mjk4ODA1NzM3MDYxMDg0MzU1MQ%3D%3D.2-ccb7-5&oh=00_AfAafd57vjgU9TATPBPgiAVbu-l4bukl3lK7oFK_ebPpcw&oe=63B73FAE&_nc_sid=1527a3',\n 'https://instagram.fhyd2-1.fna.fbcdn.net/v/t51.2885-15/317864318_512297724165115_5644990853558909252_n.jpg?stp=dst-jpg_e15&_nc_ht=instagram.fhyd2-1.fna.fbcdn.net&_nc_cat=107&_nc_ohc=zhlJmp_ei8YAX9vFA_w&edm=ACWDqb8BAAAA&ccb=7-5&ig_cache_key=Mjk4NTA2NTI5NTUzMTY5ODIwOQ%3D%3D.2-ccb7-5&oh=00_AfDrN8hNcfZMkUGITQK2jTPmg-JEpX0lLf4forS7xsYefg&oe=63B7F477&_nc_sid=1527a3',\n 'https://instagram.fhyd2-2.fna.fbcdn.net/v/t51.2885-15/317783734_852077769477083_3037879849836093604_n.jpg?stp=dst-jpg_e15&_nc_ht=instagram.fhyd2-2.fna.fbcdn.net&_nc_cat=111&_nc_ohc=EBxUn5xRmwcAX9nqF8p&tn=YP210eL3F2W_Oi4S&edm=ACWDqb8BAAAA&ccb=7-5&ig_cache_key=Mjk4NDEyNTIzOTU0NzQ2MjMyMA%3D%3D.2-ccb7-5&oh=00_AfDenVvLz3g8jyuLGyaI9hFt5DL7xG0av3y66e2A7t_pYA&oe=63B7CA80&_nc_sid=1527a3',\n 'https://instagram.fhyd2-2.fna.fbcdn.net/v/t51.2885-15/317341291_983799689261216_2504858002388597566_n.jpg?stp=dst-jpg_e35&_nc_ht=instagram.fhyd2-2.fna.fbcdn.net&_nc_cat=108&_nc_ohc=OfR3cX_ZwhsAX_nU1XB&edm=ACWDqb8BAAAA&ccb=7-5&ig_cache_key=Mjk4MjI3MTYyNjEwNTQ0NzkzNg%3D%3D.2-ccb7-5&oh=00_AfCeYfuiiGg8aUueHeIU1IoeCv0HfFQg3HOxLfgtHtt0ZA&oe=63B6F0ED&_nc_sid=1527a3',\n 'https://instagram.fhyd2-1.fna.fbcdn.net/v/t51.2885-15/316721696_835465340843131_8766594976727145823_n.jpg?stp=dst-jpg_e15&_nc_ht=instagram.fhyd2-1.fna.fbcdn.net&_nc_cat=107&_nc_ohc=rCqzVaE6CYUAX9cvETl&edm=ACWDqb8BAAAA&ccb=7-5&ig_cache_key=Mjk3ODYyODA0NDAwNjE1ODQ2Ng%3D%3D.2-ccb7-5&oh=00_AfDxnxcViwwDZ4Q3l9V8REKAwy-_1MYPtsYo8V19Izvuaw&oe=63B80435&_nc_sid=1527a3',\n 'https://instagram.fhyd2-2.fna.fbcdn.net/v/t51.2885-15/314205773_127898390061418_3811579095999865702_n.jpg?stp=dst-jpg_e35&_nc_ht=instagram.fhyd2-2.fna.fbcdn.net&_nc_cat=110&_nc_ohc=d2C-27Ar36IAX_wIXQp&edm=ACWDqb8BAAAA&ccb=7-5&ig_cache_key=Mjk2NDg4NjM1NjE5MjM3ODEzMA%3D%3D.2-ccb7-5&oh=00_AfCFxr-6MlcjYZ7uZnLFGFil9UlDd_467J4UCCN6OFkHeg&oe=63B82359&_nc_sid=1527a3']"
     },
     "execution_count": 33,
     "metadata": {},
     "output_type": "execute_result"
    }
   ],
   "source": [
    "html_list"
   ],
   "metadata": {
    "collapsed": false
   }
  },
  {
   "cell_type": "code",
   "execution_count": 48,
   "outputs": [
    {
     "name": "stdout",
     "output_type": "stream",
     "text": [
      "https://scontent.cdninstagram.com/v/t51.2885-19/152455501_118827793492139_4981036572940766504_n.jpg?stp=dst-jpg_s150x150&_nc_ht=scontent.cdninstagram.com&_nc_cat=111&_nc_ohc=5zBvViP6HOwAX_DApPc&edm=APs17CUBAAAA&ccb=7-5&oh=00_AfAFVV0oC5nTw2__hBhOy2h79kC6T2Q2AT7KIhyEF-7lwQ&oe=63B6F1E1&_nc_sid=978cb9\n",
      "https://instagram.fhyd2-2.fna.fbcdn.net/v/t51.2885-19/320177261_1787837671600441_5137752268892292531_n.jpg?stp=dst-jpg_s150x150&_nc_ht=instagram.fhyd2-2.fna.fbcdn.net&_nc_cat=1&_nc_ohc=gMvNX1lysPoAX_WyT5l&tn=YP210eL3F2W_Oi4S&edm=ABmJApABAAAA&ccb=7-5&oh=00_AfCk6vXRtu53773Gn_8YPk1as8z3mYcs65zp_-AgFdKTNw&oe=63B87CB8&_nc_sid=6136e7\n",
      "https://instagram.fhyd2-2.fna.fbcdn.net/v/t51.2885-15/319882869_650951566761476_6121096505978202255_n.jpg?stp=c0.499.1284.1284a_dst-jpg_e35_s150x150&_nc_ht=instagram.fhyd2-2.fna.fbcdn.net&_nc_cat=108&_nc_ohc=NhZqVH7gTNwAX_fWKiP&edm=AGW0Xe4BAAAA&ccb=7-5&oh=00_AfAdPwQcseadajkcyP4v0Kwrq3G5NDj7Hu4zi49HeZ8Q3Q&oe=63B43E8B&_nc_sid=acd11b\n",
      "https://instagram.fhyd2-2.fna.fbcdn.net/v/t51.12442-15/25013827_279858702538270_1804861634213052416_n.jpg?stp=c0.237.720.720a_dst-jpg_e35_s150x150&_nc_ht=instagram.fhyd2-2.fna.fbcdn.net&_nc_cat=110&_nc_ohc=vSMhb5jxXxEAX8REpSM&edm=AGW0Xe4BAAAA&ccb=7-5&oh=00_AfDeg3-emIH9GslOO6aYRJjSbDHel5gJdC3CvCe_4RXEqA&oe=63B48AA4&_nc_sid=acd11b\n",
      "https://instagram.fhyd2-1.fna.fbcdn.net/v/t51.2885-15/306291482_189361526841941_4348759151212039810_n.jpg?stp=c21.530.590.590a_dst-jpg_e15_s150x150&_nc_ht=instagram.fhyd2-1.fna.fbcdn.net&_nc_cat=105&_nc_ohc=PiCyYr3EiaMAX_Wnbmm&edm=AGW0Xe4BAAAA&ccb=7-5&oh=00_AfB_VzMpgdZ85MOr7HjXNn6UIfVNA_2A7nu4xrkhnKXVjg&oe=63B4814C&_nc_sid=acd11b\n",
      "https://instagram.fhyd2-2.fna.fbcdn.net/v/t51.2885-15/277601188_174213228272931_3363189348435802702_n.jpg?stp=c0.437.1125.1125a_dst-jpg_e35_s150x150&_nc_ht=instagram.fhyd2-2.fna.fbcdn.net&_nc_cat=103&_nc_ohc=ktUtH2Y5Px4AX-BTOrW&edm=AGW0Xe4BAAAA&ccb=7-5&oh=00_AfCeMptHfewVwgEASinh0JmGAKa46hUtAGy280PHv25VAQ&oe=63B44AE7&_nc_sid=acd11b\n",
      "https://instagram.fhyd2-1.fna.fbcdn.net/v/t51.2885-15/280771530_353852990070340_3868114256413093628_n.jpg?stp=c0.437.1125.1125a_dst-jpg_e35_s150x150&_nc_ht=instagram.fhyd2-1.fna.fbcdn.net&_nc_cat=104&_nc_ohc=-2T08jXvwYEAX-HU-y9&edm=AGW0Xe4BAAAA&ccb=7-5&oh=00_AfCkJ2PJI7Dm8S1wAroL4N0raMMcQQFjt7z4YjVqg-9olA&oe=63B3FBD7&_nc_sid=acd11b\n",
      "https://instagram.fhyd2-1.fna.fbcdn.net/v/t51.2885-15/183123099_480780916588613_6271353903378995278_n.jpg?stp=c0.420.1080.1080a_dst-jpg_e35_s150x150&_nc_ht=instagram.fhyd2-1.fna.fbcdn.net&_nc_cat=105&_nc_ohc=YqtdnEPN8EIAX9NU4uS&edm=AGW0Xe4BAAAA&ccb=7-5&oh=00_AfACeAHx6zycBL7erRuEkrLh1yAXnoWCfQXtFmYyi-qXFA&oe=63B46EB6&_nc_sid=acd11b\n",
      "https://instagram.fhyd2-1.fna.fbcdn.net/v/t51.12442-15/78933144_2553873211507721_3758524935008966434_n.jpg?stp=c0.351.721.721a_dst-jpg_e35_s150x150&_nc_ht=instagram.fhyd2-1.fna.fbcdn.net&_nc_cat=105&_nc_ohc=bR6SNGHSgjUAX9Jdcrw&edm=AGW0Xe4BAAAA&ccb=7-5&oh=00_AfAHDhR-AoMZkXJ0N_NEgjWLlmnwqRxvU0H_4GEQ2TbuHw&oe=63B3FA50&_nc_sid=acd11b\n",
      "https://instagram.fhyd2-2.fna.fbcdn.net/v/t51.2885-15/156854177_433063814473407_8585757316059530434_n.jpg?stp=c0.248.640.640a_dst-jpg_e15_s150x150&_nc_ht=instagram.fhyd2-2.fna.fbcdn.net&_nc_cat=103&_nc_ohc=AHRahNUdRMMAX_k9NGv&edm=AGW0Xe4BAAAA&ccb=7-5&oh=00_AfCtcc1vcbRPQ1MGCGKHvsSDOYOBphROGwdTP3ewmh6ePA&oe=63B42215&_nc_sid=acd11b\n",
      "https://instagram.fhyd2-1.fna.fbcdn.net/v/t51.12442-15/24331794_2008305916071749_3800615091351584768_n.jpg?stp=c0.237.721.721a_dst-jpg_e35_s150x150&_nc_ht=instagram.fhyd2-1.fna.fbcdn.net&_nc_cat=105&_nc_ohc=4jEYT_pnif4AX_FmZZp&edm=AGW0Xe4BAAAA&ccb=7-5&oh=00_AfBUAxq-WnK3ktF_HsO8s7UQmrxN_iLGvLufxCzlvj_cPw&oe=63B47120&_nc_sid=acd11b\n",
      "https://instagram.fhyd2-2.fna.fbcdn.net/v/t51.2885-15/249457051_1496740694058603_3500076822944515055_n.jpg?stp=dst-jpg_s150x150&_nc_ht=instagram.fhyd2-2.fna.fbcdn.net&_nc_cat=103&_nc_ohc=nI-GJlNyThUAX_kClNL&edm=AGW0Xe4BAAAA&ccb=7-5&oh=00_AfBZCRJqB4JmsPA-8DLyiYkDMs_V4yWiawaM-1EIAaNPTg&oe=63B81725&_nc_sid=acd11b\n",
      "https://instagram.fhyd2-2.fna.fbcdn.net/v/t51.2885-15/256556308_901656013802451_3930241639230906324_n.jpg?stp=c0.248.640.640a_dst-jpg_e15_s150x150&_nc_ht=instagram.fhyd2-2.fna.fbcdn.net&_nc_cat=103&_nc_ohc=uZhn9LAFyFIAX_0W5X6&edm=AGW0Xe4BAAAA&ccb=7-5&oh=00_AfDjK92xg6V0Z2UVIZW84UtaQSuH0C_uToVLG-M0BMvDzw&oe=63B3F2C3&_nc_sid=acd11b\n",
      "https://instagram.fhyd2-1.fna.fbcdn.net/v/t51.2885-15/143943925_2769259843327140_860778312639955395_n.jpg?stp=c0.420.1080.1080a_dst-jpg_e35_s150x150&_nc_ht=instagram.fhyd2-1.fna.fbcdn.net&_nc_cat=100&_nc_ohc=aeBxTZtDSnsAX_dorou&edm=AGW0Xe4BAAAA&ccb=7-5&oh=00_AfBEK6l3i_vR42nd6UUFhgDYd-oia0uFILcFxEsZ2p9LQQ&oe=63B3F0EC&_nc_sid=acd11b\n",
      "https://instagram.fhyd2-1.fna.fbcdn.net/v/t51.2885-15/120311985_797790864379348_6059063183808086951_n.jpg?stp=c0.555.1080.1080a_dst-jpg_e35_s150x150&_nc_ht=instagram.fhyd2-1.fna.fbcdn.net&_nc_cat=104&_nc_ohc=GSoGKV3NqeQAX_L8SYb&edm=AGW0Xe4BAAAA&ccb=7-5&oh=00_AfDygCGEL5cpwEQBcdZU2eJ8pkCM9MlDDpqdPGaozX1RbQ&oe=63B43C76&_nc_sid=acd11b\n",
      "https://instagram.fhyd2-1.fna.fbcdn.net/v/t51.2885-15/123132339_2722479018011833_1970623795534238867_n.jpg?stp=c0.555.1080.1080a_dst-jpg_e35_s150x150&_nc_ht=instagram.fhyd2-1.fna.fbcdn.net&_nc_cat=101&_nc_ohc=97CPdV0fEJoAX_-Pqcc&tn=YP210eL3F2W_Oi4S&edm=AGW0Xe4BAAAA&ccb=7-5&oh=00_AfDzGacY4cfxpdLn6R8bQFGctELDUdtBYc6libKTLFxfNQ&oe=63B3F75B&_nc_sid=acd11b\n",
      "https://instagram.fhyd2-1.fna.fbcdn.net/v/t51.12442-15/67587617_157726408628810_2409652192195981360_n.jpg?stp=c0.526.1081.1081a_dst-jpg_e35_s150x150&_nc_ht=instagram.fhyd2-1.fna.fbcdn.net&_nc_cat=102&_nc_ohc=FMeRBam4tQUAX-YoDaq&tn=YP210eL3F2W_Oi4S&edm=AGW0Xe4BAAAA&ccb=7-5&oh=00_AfAKr_qwXaAj1Tzwlsy5j9D7rzio9PzURq8kzxu9xa1pLQ&oe=63B4001A&_nc_sid=acd11b\n",
      "https://instagram.fhyd2-1.fna.fbcdn.net/v/t51.12442-15/43816533_934994919957746_7417448350666121868_n.jpg?stp=c0.420.1080.1080a_dst-jpg_e35_s150x150&_nc_ht=instagram.fhyd2-1.fna.fbcdn.net&_nc_cat=102&_nc_ohc=kCyfvfE5GdsAX9PvOuJ&edm=AGW0Xe4BAAAA&ccb=7-5&oh=00_AfBRzVHAPn77yQqYeFwDdgd3l8QmmvfaBHHotTIYiTynBg&oe=63B44DFC&_nc_sid=acd11b\n",
      "https://instagram.fhyd2-1.fna.fbcdn.net/v/t51.2885-15/322656753_728516642211782_7083693316349838374_n.jpg?stp=dst-jpg_e35&_nc_ht=instagram.fhyd2-1.fna.fbcdn.net&_nc_cat=102&_nc_ohc=TubyEIDDLOQAX_8gr3h&edm=ACWDqb8BAAAA&ccb=7-5&ig_cache_key=MzAwMzkwMzkyMTEyNzQzMDQ5Nw%3D%3D.2-ccb7-5&oh=00_AfBvtEYb95JLB9rtZwn1lJmuFPNFvA6X67lzHcsi48r5iw&oe=63B7C36A&_nc_sid=1527a3\n",
      "https://instagram.fhyd2-1.fna.fbcdn.net/v/t51.2885-15/321719866_175562948442883_3836463189588153257_n.jpg?stp=dst-jpg_e15&_nc_ht=instagram.fhyd2-1.fna.fbcdn.net&_nc_cat=107&_nc_ohc=UACA3uGEVTIAX8Zankp&edm=ACWDqb8BAAAA&ccb=7-5&ig_cache_key=MzAwMTEwNTQwOTM2MTk2NTQ2Mw%3D%3D.2-ccb7-5&oh=00_AfDRMpseWz7WqGPYL7-dz70RrAEF3dgld22cdVrRVj461Q&oe=63B6DE43&_nc_sid=1527a3\n",
      "https://instagram.fhyd2-1.fna.fbcdn.net/v/t51.2885-15/321429990_3017675308540981_6890970793898826550_n.jpg?stp=dst-jpg_e35&_nc_ht=instagram.fhyd2-1.fna.fbcdn.net&_nc_cat=101&_nc_ohc=Kbuj3KoZg5oAX8Zuhop&edm=ACWDqb8BAAAA&ccb=7-5&ig_cache_key=MzAwMTAxNjk5MDQ1ODI3NTY1Mg%3D%3D.2-ccb7-5&oh=00_AfD7BeoGzCHAHUq_GXXOrxKy8IyxW4CuZ5L0OZCBblny4Q&oe=63B741D6&_nc_sid=1527a3\n",
      "https://instagram.fhyd2-1.fna.fbcdn.net/v/t51.2885-15/321480488_1249982575862551_6146110074385748142_n.jpg?stp=dst-jpg_e35&_nc_ht=instagram.fhyd2-1.fna.fbcdn.net&_nc_cat=107&_nc_ohc=QbE16q0MD2UAX9sgCCD&edm=ACWDqb8BAAAA&ccb=7-5&ig_cache_key=MzAwMDM0NTE1MjMxNDAxMTIzOA%3D%3D.2-ccb7-5&oh=00_AfAWqfLJsEB2-Rh1MA3URpzdbe8Gm-2BrnB-J67FVsWNRg&oe=63B883C2&_nc_sid=1527a3\n",
      "https://instagram.fhyd2-2.fna.fbcdn.net/v/t51.2885-15/321057860_1562127467561523_5873024369615501333_n.jpg?stp=dst-jpg_e35&_nc_ht=instagram.fhyd2-2.fna.fbcdn.net&_nc_cat=103&_nc_ohc=h3_MqreMapwAX93l-dO&tn=YP210eL3F2W_Oi4S&edm=ACWDqb8BAAAA&ccb=7-5&ig_cache_key=Mjk5OTU4ODA1OTYwNDc1MjIyNQ%3D%3D.2-ccb7-5&oh=00_AfCU4q_ycheT8NeUogNafXqBW0wKAqZI6CAdI1gDtm0Plw&oe=63B702F8&_nc_sid=1527a3\n",
      "https://instagram.fhyd2-1.fna.fbcdn.net/v/t51.2885-15/320146891_911314266698930_1275131393467661330_n.jpg?stp=dst-jpg_e35&_nc_ht=instagram.fhyd2-1.fna.fbcdn.net&_nc_cat=102&_nc_ohc=MkF5yACWk6gAX8lT7xt&tn=YP210eL3F2W_Oi4S&edm=ACWDqb8BAAAA&ccb=7-5&ig_cache_key=Mjk5NDYwNTYxMDU1ODU4Mjc0Mw%3D%3D.2-ccb7-5&oh=00_AfC8qWvfAu_qmUojQPoDU-S-yYWy_OaAmlCGdi4ZAM1-Qw&oe=63B7618F&_nc_sid=1527a3\n",
      "https://instagram.fhyd2-2.fna.fbcdn.net/v/t51.2885-15/318290272_5842720505751323_7196456183976263076_n.jpg?stp=dst-jpg_e35&_nc_ht=instagram.fhyd2-2.fna.fbcdn.net&_nc_cat=111&_nc_ohc=_X9DdO89jPkAX_vNd_b&edm=ACWDqb8BAAAA&ccb=7-5&ig_cache_key=Mjk4ODA1NzM3MDYxMDg0MzU1MQ%3D%3D.2-ccb7-5&oh=00_AfAafd57vjgU9TATPBPgiAVbu-l4bukl3lK7oFK_ebPpcw&oe=63B73FAE&_nc_sid=1527a3\n",
      "https://instagram.fhyd2-1.fna.fbcdn.net/v/t51.2885-15/317864318_512297724165115_5644990853558909252_n.jpg?stp=dst-jpg_e15&_nc_ht=instagram.fhyd2-1.fna.fbcdn.net&_nc_cat=107&_nc_ohc=zhlJmp_ei8YAX9vFA_w&edm=ACWDqb8BAAAA&ccb=7-5&ig_cache_key=Mjk4NTA2NTI5NTUzMTY5ODIwOQ%3D%3D.2-ccb7-5&oh=00_AfDrN8hNcfZMkUGITQK2jTPmg-JEpX0lLf4forS7xsYefg&oe=63B7F477&_nc_sid=1527a3\n",
      "https://instagram.fhyd2-2.fna.fbcdn.net/v/t51.2885-15/317783734_852077769477083_3037879849836093604_n.jpg?stp=dst-jpg_e15&_nc_ht=instagram.fhyd2-2.fna.fbcdn.net&_nc_cat=111&_nc_ohc=EBxUn5xRmwcAX9nqF8p&tn=YP210eL3F2W_Oi4S&edm=ACWDqb8BAAAA&ccb=7-5&ig_cache_key=Mjk4NDEyNTIzOTU0NzQ2MjMyMA%3D%3D.2-ccb7-5&oh=00_AfDenVvLz3g8jyuLGyaI9hFt5DL7xG0av3y66e2A7t_pYA&oe=63B7CA80&_nc_sid=1527a3\n",
      "https://instagram.fhyd2-2.fna.fbcdn.net/v/t51.2885-15/317341291_983799689261216_2504858002388597566_n.jpg?stp=dst-jpg_e35&_nc_ht=instagram.fhyd2-2.fna.fbcdn.net&_nc_cat=108&_nc_ohc=OfR3cX_ZwhsAX_nU1XB&edm=ACWDqb8BAAAA&ccb=7-5&ig_cache_key=Mjk4MjI3MTYyNjEwNTQ0NzkzNg%3D%3D.2-ccb7-5&oh=00_AfCeYfuiiGg8aUueHeIU1IoeCv0HfFQg3HOxLfgtHtt0ZA&oe=63B6F0ED&_nc_sid=1527a3\n",
      "https://instagram.fhyd2-1.fna.fbcdn.net/v/t51.2885-15/316721696_835465340843131_8766594976727145823_n.jpg?stp=dst-jpg_e15&_nc_ht=instagram.fhyd2-1.fna.fbcdn.net&_nc_cat=107&_nc_ohc=rCqzVaE6CYUAX9cvETl&edm=ACWDqb8BAAAA&ccb=7-5&ig_cache_key=Mjk3ODYyODA0NDAwNjE1ODQ2Ng%3D%3D.2-ccb7-5&oh=00_AfDxnxcViwwDZ4Q3l9V8REKAwy-_1MYPtsYo8V19Izvuaw&oe=63B80435&_nc_sid=1527a3\n",
      "https://instagram.fhyd2-2.fna.fbcdn.net/v/t51.2885-15/314205773_127898390061418_3811579095999865702_n.jpg?stp=dst-jpg_e35&_nc_ht=instagram.fhyd2-2.fna.fbcdn.net&_nc_cat=110&_nc_ohc=d2C-27Ar36IAX_wIXQp&edm=ACWDqb8BAAAA&ccb=7-5&ig_cache_key=Mjk2NDg4NjM1NjE5MjM3ODEzMA%3D%3D.2-ccb7-5&oh=00_AfCFxr-6MlcjYZ7uZnLFGFil9UlDd_467J4UCCN6OFkHeg&oe=63B82359&_nc_sid=1527a3\n"
     ]
    }
   ],
   "source": [
    "\n",
    "for i in html_list:\n",
    "    print(i)"
   ],
   "metadata": {
    "collapsed": false
   }
  },
  {
   "cell_type": "code",
   "execution_count": 51,
   "outputs": [
    {
     "ename": "AttributeError",
     "evalue": "'generator' object has no attribute 'decode'",
     "output_type": "error",
     "traceback": [
      "\u001B[0;31m---------------------------------------------------------------------------\u001B[0m",
      "\u001B[0;31mAttributeError\u001B[0m                            Traceback (most recent call last)",
      "Cell \u001B[0;32mIn[51], line 1\u001B[0m\n\u001B[0;32m----> 1\u001B[0m \u001B[43mwget\u001B[49m\u001B[38;5;241;43m.\u001B[39;49m\u001B[43mdownload\u001B[49m\u001B[43m(\u001B[49m\u001B[43m(\u001B[49m\u001B[43mi\u001B[49m\u001B[43m \u001B[49m\u001B[38;5;28;43;01mfor\u001B[39;49;00m\u001B[43m \u001B[49m\u001B[43mi\u001B[49m\u001B[43m \u001B[49m\u001B[38;5;129;43;01min\u001B[39;49;00m\u001B[43m \u001B[49m\u001B[43mhtml_list\u001B[49m\u001B[43m)\u001B[49m\n\u001B[1;32m      2\u001B[0m \u001B[43m              \u001B[49m\u001B[43m,\u001B[49m\u001B[43msave_as\u001B[49m\u001B[43m)\u001B[49m\n",
      "File \u001B[0;32m~/PycharmProjects/pythonProject/InstaAPI/venv/lib/python3.11/site-packages/wget.py:505\u001B[0m, in \u001B[0;36mdownload\u001B[0;34m(url, out, bar)\u001B[0m\n\u001B[1;32m    502\u001B[0m     out \u001B[38;5;241m=\u001B[39m \u001B[38;5;28;01mNone\u001B[39;00m\n\u001B[1;32m    504\u001B[0m \u001B[38;5;66;03m# get filename for temp file in current directory\u001B[39;00m\n\u001B[0;32m--> 505\u001B[0m prefix \u001B[38;5;241m=\u001B[39m \u001B[43mdetect_filename\u001B[49m\u001B[43m(\u001B[49m\u001B[43murl\u001B[49m\u001B[43m,\u001B[49m\u001B[43m \u001B[49m\u001B[43mout\u001B[49m\u001B[43m)\u001B[49m\n\u001B[1;32m    506\u001B[0m (fd, tmpfile) \u001B[38;5;241m=\u001B[39m tempfile\u001B[38;5;241m.\u001B[39mmkstemp(\u001B[38;5;124m\"\u001B[39m\u001B[38;5;124m.tmp\u001B[39m\u001B[38;5;124m\"\u001B[39m, prefix\u001B[38;5;241m=\u001B[39mprefix, \u001B[38;5;28mdir\u001B[39m\u001B[38;5;241m=\u001B[39m\u001B[38;5;124m\"\u001B[39m\u001B[38;5;124m.\u001B[39m\u001B[38;5;124m\"\u001B[39m)\n\u001B[1;32m    507\u001B[0m os\u001B[38;5;241m.\u001B[39mclose(fd)\n",
      "File \u001B[0;32m~/PycharmProjects/pythonProject/InstaAPI/venv/lib/python3.11/site-packages/wget.py:484\u001B[0m, in \u001B[0;36mdetect_filename\u001B[0;34m(url, out, headers, default)\u001B[0m\n\u001B[1;32m    482\u001B[0m     names[\u001B[38;5;124m\"\u001B[39m\u001B[38;5;124mout\u001B[39m\u001B[38;5;124m\"\u001B[39m] \u001B[38;5;241m=\u001B[39m out \u001B[38;5;129;01mor\u001B[39;00m \u001B[38;5;124m'\u001B[39m\u001B[38;5;124m'\u001B[39m\n\u001B[1;32m    483\u001B[0m \u001B[38;5;28;01mif\u001B[39;00m url:\n\u001B[0;32m--> 484\u001B[0m     names[\u001B[38;5;124m\"\u001B[39m\u001B[38;5;124murl\u001B[39m\u001B[38;5;124m\"\u001B[39m] \u001B[38;5;241m=\u001B[39m \u001B[43mfilename_from_url\u001B[49m\u001B[43m(\u001B[49m\u001B[43murl\u001B[49m\u001B[43m)\u001B[49m \u001B[38;5;129;01mor\u001B[39;00m \u001B[38;5;124m'\u001B[39m\u001B[38;5;124m'\u001B[39m\n\u001B[1;32m    485\u001B[0m \u001B[38;5;28;01mif\u001B[39;00m headers:\n\u001B[1;32m    486\u001B[0m     names[\u001B[38;5;124m\"\u001B[39m\u001B[38;5;124mheaders\u001B[39m\u001B[38;5;124m\"\u001B[39m] \u001B[38;5;241m=\u001B[39m filename_from_headers(headers) \u001B[38;5;129;01mor\u001B[39;00m \u001B[38;5;124m'\u001B[39m\u001B[38;5;124m'\u001B[39m\n",
      "File \u001B[0;32m~/PycharmProjects/pythonProject/InstaAPI/venv/lib/python3.11/site-packages/wget.py:230\u001B[0m, in \u001B[0;36mfilename_from_url\u001B[0;34m(url)\u001B[0m\n\u001B[1;32m    228\u001B[0m \u001B[38;5;250m\u001B[39m\u001B[38;5;124;03m\"\"\":return: detected filename as unicode or None\"\"\"\u001B[39;00m\n\u001B[1;32m    229\u001B[0m \u001B[38;5;66;03m# [ ] test urlparse behavior with unicode url\u001B[39;00m\n\u001B[0;32m--> 230\u001B[0m fname \u001B[38;5;241m=\u001B[39m os\u001B[38;5;241m.\u001B[39mpath\u001B[38;5;241m.\u001B[39mbasename(\u001B[43murlparse\u001B[49m\u001B[38;5;241;43m.\u001B[39;49m\u001B[43murlparse\u001B[49m\u001B[43m(\u001B[49m\u001B[43murl\u001B[49m\u001B[43m)\u001B[49m\u001B[38;5;241m.\u001B[39mpath)\n\u001B[1;32m    231\u001B[0m \u001B[38;5;28;01mif\u001B[39;00m \u001B[38;5;28mlen\u001B[39m(fname\u001B[38;5;241m.\u001B[39mstrip(\u001B[38;5;124m\"\u001B[39m\u001B[38;5;124m \u001B[39m\u001B[38;5;130;01m\\n\u001B[39;00m\u001B[38;5;130;01m\\t\u001B[39;00m\u001B[38;5;124m.\u001B[39m\u001B[38;5;124m\"\u001B[39m)) \u001B[38;5;241m==\u001B[39m \u001B[38;5;241m0\u001B[39m:\n\u001B[1;32m    232\u001B[0m     \u001B[38;5;28;01mreturn\u001B[39;00m \u001B[38;5;28;01mNone\u001B[39;00m\n",
      "File \u001B[0;32m/Library/Frameworks/Python.framework/Versions/3.11/lib/python3.11/urllib/parse.py:385\u001B[0m, in \u001B[0;36murlparse\u001B[0;34m(url, scheme, allow_fragments)\u001B[0m\n\u001B[1;32m    365\u001B[0m \u001B[38;5;28;01mdef\u001B[39;00m \u001B[38;5;21murlparse\u001B[39m(url, scheme\u001B[38;5;241m=\u001B[39m\u001B[38;5;124m'\u001B[39m\u001B[38;5;124m'\u001B[39m, allow_fragments\u001B[38;5;241m=\u001B[39m\u001B[38;5;28;01mTrue\u001B[39;00m):\n\u001B[1;32m    366\u001B[0m \u001B[38;5;250m    \u001B[39m\u001B[38;5;124;03m\"\"\"Parse a URL into 6 components:\u001B[39;00m\n\u001B[1;32m    367\u001B[0m \u001B[38;5;124;03m    <scheme>://<netloc>/<path>;<params>?<query>#<fragment>\u001B[39;00m\n\u001B[1;32m    368\u001B[0m \n\u001B[0;32m   (...)\u001B[0m\n\u001B[1;32m    383\u001B[0m \u001B[38;5;124;03m    Note that % escapes are not expanded.\u001B[39;00m\n\u001B[1;32m    384\u001B[0m \u001B[38;5;124;03m    \"\"\"\u001B[39;00m\n\u001B[0;32m--> 385\u001B[0m     url, scheme, _coerce_result \u001B[38;5;241m=\u001B[39m \u001B[43m_coerce_args\u001B[49m\u001B[43m(\u001B[49m\u001B[43murl\u001B[49m\u001B[43m,\u001B[49m\u001B[43m \u001B[49m\u001B[43mscheme\u001B[49m\u001B[43m)\u001B[49m\n\u001B[1;32m    386\u001B[0m     splitresult \u001B[38;5;241m=\u001B[39m urlsplit(url, scheme, allow_fragments)\n\u001B[1;32m    387\u001B[0m     scheme, netloc, url, query, fragment \u001B[38;5;241m=\u001B[39m splitresult\n",
      "File \u001B[0;32m/Library/Frameworks/Python.framework/Versions/3.11/lib/python3.11/urllib/parse.py:124\u001B[0m, in \u001B[0;36m_coerce_args\u001B[0;34m(*args)\u001B[0m\n\u001B[1;32m    122\u001B[0m \u001B[38;5;28;01mif\u001B[39;00m str_input:\n\u001B[1;32m    123\u001B[0m     \u001B[38;5;28;01mreturn\u001B[39;00m args \u001B[38;5;241m+\u001B[39m (_noop,)\n\u001B[0;32m--> 124\u001B[0m \u001B[38;5;28;01mreturn\u001B[39;00m \u001B[43m_decode_args\u001B[49m\u001B[43m(\u001B[49m\u001B[43margs\u001B[49m\u001B[43m)\u001B[49m \u001B[38;5;241m+\u001B[39m (_encode_result,)\n",
      "File \u001B[0;32m/Library/Frameworks/Python.framework/Versions/3.11/lib/python3.11/urllib/parse.py:108\u001B[0m, in \u001B[0;36m_decode_args\u001B[0;34m(args, encoding, errors)\u001B[0m\n\u001B[1;32m    106\u001B[0m \u001B[38;5;28;01mdef\u001B[39;00m \u001B[38;5;21m_decode_args\u001B[39m(args, encoding\u001B[38;5;241m=\u001B[39m_implicit_encoding,\n\u001B[1;32m    107\u001B[0m                        errors\u001B[38;5;241m=\u001B[39m_implicit_errors):\n\u001B[0;32m--> 108\u001B[0m     \u001B[38;5;28;01mreturn\u001B[39;00m \u001B[38;5;28;43mtuple\u001B[39;49m\u001B[43m(\u001B[49m\u001B[43mx\u001B[49m\u001B[38;5;241;43m.\u001B[39;49m\u001B[43mdecode\u001B[49m\u001B[43m(\u001B[49m\u001B[43mencoding\u001B[49m\u001B[43m,\u001B[49m\u001B[43m \u001B[49m\u001B[43merrors\u001B[49m\u001B[43m)\u001B[49m\u001B[43m \u001B[49m\u001B[38;5;28;43;01mif\u001B[39;49;00m\u001B[43m \u001B[49m\u001B[43mx\u001B[49m\u001B[43m \u001B[49m\u001B[38;5;28;43;01melse\u001B[39;49;00m\u001B[43m \u001B[49m\u001B[38;5;124;43m'\u001B[39;49m\u001B[38;5;124;43m'\u001B[39;49m\u001B[43m \u001B[49m\u001B[38;5;28;43;01mfor\u001B[39;49;00m\u001B[43m \u001B[49m\u001B[43mx\u001B[49m\u001B[43m \u001B[49m\u001B[38;5;129;43;01min\u001B[39;49;00m\u001B[43m \u001B[49m\u001B[43margs\u001B[49m\u001B[43m)\u001B[49m\n",
      "File \u001B[0;32m/Library/Frameworks/Python.framework/Versions/3.11/lib/python3.11/urllib/parse.py:108\u001B[0m, in \u001B[0;36m<genexpr>\u001B[0;34m(.0)\u001B[0m\n\u001B[1;32m    106\u001B[0m \u001B[38;5;28;01mdef\u001B[39;00m \u001B[38;5;21m_decode_args\u001B[39m(args, encoding\u001B[38;5;241m=\u001B[39m_implicit_encoding,\n\u001B[1;32m    107\u001B[0m                        errors\u001B[38;5;241m=\u001B[39m_implicit_errors):\n\u001B[0;32m--> 108\u001B[0m     \u001B[38;5;28;01mreturn\u001B[39;00m \u001B[38;5;28mtuple\u001B[39m(\u001B[43mx\u001B[49m\u001B[38;5;241;43m.\u001B[39;49m\u001B[43mdecode\u001B[49m(encoding, errors) \u001B[38;5;28;01mif\u001B[39;00m x \u001B[38;5;28;01melse\u001B[39;00m \u001B[38;5;124m'\u001B[39m\u001B[38;5;124m'\u001B[39m \u001B[38;5;28;01mfor\u001B[39;00m x \u001B[38;5;129;01min\u001B[39;00m args)\n",
      "\u001B[0;31mAttributeError\u001B[0m: 'generator' object has no attribute 'decode'"
     ]
    }
   ],
   "source": [
    "wget.download(i for i in html_list,save_as)\n",
    "\n"
   ],
   "metadata": {
    "collapsed": false
   }
  },
  {
   "cell_type": "code",
   "execution_count": 55,
   "outputs": [],
   "source": [
    "import requests\n",
    "from urllib import request\n",
    "import requests\n",
    "\n",
    "# request.urlretrieve(i, ctx, f\"path/\"{html_list[0]}.jpg')"
   ],
   "metadata": {
    "collapsed": false
   }
  },
  {
   "cell_type": "code",
   "execution_count": 68,
   "outputs": [],
   "source": [
    "c=1\n",
    "for i in html_list:\n",
    "    request.urlretrieve(i,f'/Users/nithinsaikrishna/PycharmProjects/pythonProject/InstaAPI/hannu_7s/{c}.jpg')\n",
    "    c+=1"
   ],
   "metadata": {
    "collapsed": false
   }
  },
  {
   "cell_type": "code",
   "execution_count": 71,
   "outputs": [
    {
     "name": "stdout",
     "output_type": "stream",
     "text": [
      "2\n",
      "3\n",
      "4\n",
      "5\n",
      "6\n",
      "7\n",
      "8\n",
      "9\n",
      "10\n",
      "11\n",
      "12\n",
      "13\n",
      "14\n",
      "15\n",
      "16\n",
      "17\n",
      "18\n",
      "19\n",
      "20\n",
      "21\n",
      "22\n",
      "23\n",
      "24\n",
      "25\n",
      "26\n",
      "27\n",
      "28\n",
      "29\n",
      "30\n",
      "31\n"
     ]
    }
   ],
   "source": [
    "count=1\n",
    "for i in html_list:\n",
    "    wget.download(i,f'/Users/nithinsaikrishna/PycharmProjects/pythonProject/InstaAPI/hannu_7s/shannu{count}.png')\n",
    "    count+=1\n",
    "    print(count)"
   ],
   "metadata": {
    "collapsed": false
   }
  },
  {
   "cell_type": "code",
   "execution_count": null,
   "outputs": [],
   "source": [],
   "metadata": {
    "collapsed": false
   }
  }
 ],
 "metadata": {
  "kernelspec": {
   "display_name": "Python 3",
   "language": "python",
   "name": "python3"
  },
  "language_info": {
   "codemirror_mode": {
    "name": "ipython",
    "version": 2
   },
   "file_extension": ".py",
   "mimetype": "text/x-python",
   "name": "python",
   "nbconvert_exporter": "python",
   "pygments_lexer": "ipython2",
   "version": "2.7.6"
  }
 },
 "nbformat": 4,
 "nbformat_minor": 0
}
